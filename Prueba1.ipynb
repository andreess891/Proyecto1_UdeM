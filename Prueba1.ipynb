{
 "cells": [
  {
   "cell_type": "code",
   "execution_count": 2,
   "metadata": {
    "executionInfo": {
     "elapsed": 2630,
     "status": "ok",
     "timestamp": 1746312414633,
     "user": {
      "displayName": "Jhon Fredy Ossa Patiño",
      "userId": "16604624739056177166"
     },
     "user_tz": 300
    },
    "id": "6nJSVZZG8avO"
   },
   "outputs": [],
   "source": [
    "import pandas as pd\n",
    "import numpy as np\n",
    "import matplotlib.pyplot as plt\n",
    "import seaborn as sns"
   ]
  },
  {
   "cell_type": "code",
   "execution_count": 9,
   "metadata": {
    "colab": {
     "base_uri": "https://localhost:8080/",
     "height": 206
    },
    "executionInfo": {
     "elapsed": 8952,
     "status": "ok",
     "timestamp": 1746312432273,
     "user": {
      "displayName": "Jhon Fredy Ossa Patiño",
      "userId": "16604624739056177166"
     },
     "user_tz": 300
    },
    "id": "8ifZSinS-fHL",
    "outputId": "10247c74-88df-4152-ad3c-2fa1b09d5833"
   },
   "outputs": [
    {
     "data": {
      "text/html": [
       "<div>\n",
       "<style scoped>\n",
       "    .dataframe tbody tr th:only-of-type {\n",
       "        vertical-align: middle;\n",
       "    }\n",
       "\n",
       "    .dataframe tbody tr th {\n",
       "        vertical-align: top;\n",
       "    }\n",
       "\n",
       "    .dataframe thead th {\n",
       "        text-align: right;\n",
       "    }\n",
       "</style>\n",
       "<table border=\"1\" class=\"dataframe\">\n",
       "  <thead>\n",
       "    <tr style=\"text-align: right;\">\n",
       "      <th></th>\n",
       "      <th>RESPUESTA</th>\n",
       "      <th>SERVICIO</th>\n",
       "      <th>OBSERVACION_ACTUAL</th>\n",
       "      <th>CONSUMO_CRITICADO</th>\n",
       "      <th>FUNCION_ANALISIS</th>\n",
       "      <th>CALIFICACION</th>\n",
       "    </tr>\n",
       "  </thead>\n",
       "  <tbody>\n",
       "    <tr>\n",
       "      <th>0</th>\n",
       "      <td>1</td>\n",
       "      <td>101-AGUA POTABLE</td>\n",
       "      <td>31-MEDIDOR CAMBIADO</td>\n",
       "      <td>81.58</td>\n",
       "      <td>PEOBTECOPP - Obtener Consumo Promedio Individu...</td>\n",
       "      <td>2-ENVÍA A CRÍTICA</td>\n",
       "    </tr>\n",
       "    <tr>\n",
       "      <th>1</th>\n",
       "      <td>1</td>\n",
       "      <td>101-AGUA POTABLE</td>\n",
       "      <td>39-VER ALFANUMERICA</td>\n",
       "      <td>408.00</td>\n",
       "      <td>CALCCOLE - Calcular Consumo por Lecturas</td>\n",
       "      <td>5080-MUY ALTO (&gt;500%)</td>\n",
       "    </tr>\n",
       "    <tr>\n",
       "      <th>2</th>\n",
       "      <td>1</td>\n",
       "      <td>101-AGUA POTABLE</td>\n",
       "      <td>35-NO HAY JUSTIFICACION</td>\n",
       "      <td>-3.00</td>\n",
       "      <td>PECALCCOLA - Calcular Consumo por Lectura Ante...</td>\n",
       "      <td>5036-BAJO ACUEDUCTO (&lt;-65%)</td>\n",
       "    </tr>\n",
       "    <tr>\n",
       "      <th>3</th>\n",
       "      <td>1</td>\n",
       "      <td>101-AGUA POTABLE</td>\n",
       "      <td>35-NO HAY JUSTIFICACION</td>\n",
       "      <td>-377.00</td>\n",
       "      <td>PECALCCOLA - Calcular Consumo por Lectura Ante...</td>\n",
       "      <td>5036-BAJO ACUEDUCTO (&lt;-65%)</td>\n",
       "    </tr>\n",
       "    <tr>\n",
       "      <th>4</th>\n",
       "      <td>0</td>\n",
       "      <td>101-AGUA POTABLE</td>\n",
       "      <td>0-SIN CAUSA NI OBSERVACIÓN</td>\n",
       "      <td>11.00</td>\n",
       "      <td>PECALCCOLA - Calcular Consumo por Lectura Ante...</td>\n",
       "      <td>2-ENVÍA A CRÍTICA</td>\n",
       "    </tr>\n",
       "  </tbody>\n",
       "</table>\n",
       "</div>"
      ],
      "text/plain": [
       "   RESPUESTA          SERVICIO          OBSERVACION_ACTUAL  CONSUMO_CRITICADO  \\\n",
       "0          1  101-AGUA POTABLE         31-MEDIDOR CAMBIADO              81.58   \n",
       "1          1  101-AGUA POTABLE         39-VER ALFANUMERICA             408.00   \n",
       "2          1  101-AGUA POTABLE     35-NO HAY JUSTIFICACION              -3.00   \n",
       "3          1  101-AGUA POTABLE     35-NO HAY JUSTIFICACION            -377.00   \n",
       "4          0  101-AGUA POTABLE  0-SIN CAUSA NI OBSERVACIÓN              11.00   \n",
       "\n",
       "                                    FUNCION_ANALISIS  \\\n",
       "0  PEOBTECOPP - Obtener Consumo Promedio Individu...   \n",
       "1           CALCCOLE - Calcular Consumo por Lecturas   \n",
       "2  PECALCCOLA - Calcular Consumo por Lectura Ante...   \n",
       "3  PECALCCOLA - Calcular Consumo por Lectura Ante...   \n",
       "4  PECALCCOLA - Calcular Consumo por Lectura Ante...   \n",
       "\n",
       "                  CALIFICACION  \n",
       "0            2-ENVÍA A CRÍTICA  \n",
       "1        5080-MUY ALTO (>500%)  \n",
       "2  5036-BAJO ACUEDUCTO (<-65%)  \n",
       "3  5036-BAJO ACUEDUCTO (<-65%)  \n",
       "4            2-ENVÍA A CRÍTICA  "
      ]
     },
     "execution_count": 9,
     "metadata": {},
     "output_type": "execute_result"
    }
   ],
   "source": [
    "#Carga de datos\n",
    "datos = pd.read_excel(\"C:/Users/eaop0/OneDrive/Desktop/Especializacion/Proyecto1/Datos_EPM/Proyecto1_UdeM/BD_Pendientes_No_Revisadas.xlsx\")\n",
    "datos.head()"
   ]
  },
  {
   "cell_type": "code",
   "execution_count": 10,
   "metadata": {
    "colab": {
     "base_uri": "https://localhost:8080/"
    },
    "executionInfo": {
     "elapsed": 45,
     "status": "ok",
     "timestamp": 1746312088771,
     "user": {
      "displayName": "Jhon Fredy Ossa Patiño",
      "userId": "16604624739056177166"
     },
     "user_tz": 300
    },
    "id": "qlVUkhsH--Ks",
    "outputId": "f64c6f6d-c306-49c2-c8ea-bb5cc8e5111c"
   },
   "outputs": [
    {
     "name": "stdout",
     "output_type": "stream",
     "text": [
      "<class 'pandas.core.frame.DataFrame'>\n",
      "RangeIndex: 96345 entries, 0 to 96344\n",
      "Data columns (total 6 columns):\n",
      " #   Column              Non-Null Count  Dtype  \n",
      "---  ------              --------------  -----  \n",
      " 0   RESPUESTA           96345 non-null  int64  \n",
      " 1   SERVICIO            96345 non-null  object \n",
      " 2   OBSERVACION_ACTUAL  96345 non-null  object \n",
      " 3   CONSUMO_CRITICADO   96345 non-null  float64\n",
      " 4   FUNCION_ANALISIS    96345 non-null  object \n",
      " 5   CALIFICACION        96345 non-null  object \n",
      "dtypes: float64(1), int64(1), object(4)\n",
      "memory usage: 4.4+ MB\n"
     ]
    }
   ],
   "source": [
    "#Conocer la base de datos\n",
    "datos.info()"
   ]
  },
  {
   "cell_type": "code",
   "execution_count": 11,
   "metadata": {
    "colab": {
     "base_uri": "https://localhost:8080/"
    },
    "executionInfo": {
     "elapsed": 23,
     "status": "ok",
     "timestamp": 1746311108531,
     "user": {
      "displayName": "Jhon Fredy Ossa Patiño",
      "userId": "16604624739056177166"
     },
     "user_tz": 300
    },
    "id": "EzQr2ZVEHcG5",
    "outputId": "cdf365b1-629e-4389-cb6b-74fc18b35c97"
   },
   "outputs": [
    {
     "name": "stdout",
     "output_type": "stream",
     "text": [
      "Columna: RESPUESTA\n",
      "RESPUESTA\n",
      "1    63168\n",
      "0    33177\n",
      "Name: count, dtype: int64\n",
      "\n",
      "\n",
      "Columna: SERVICIO\n",
      "SERVICIO\n",
      "101-AGUA POTABLE                       43139\n",
      "701-ENERGÍA MDO REGULADO               26867\n",
      "501-GAS NATURAL REGULADO                7462\n",
      "249-AGUA POTABLE DE RIONEGRO ANT        6037\n",
      "8003-AGUA POTABLE URABA                 4525\n",
      "240-AGUA POTABLE MALAMBO                3066\n",
      "7505-GAS NATURAL COMPRIMIDO (GNC)       1943\n",
      "8000-AGUA POTABLE OCC.                  1619\n",
      "709-MACROMEDIDORES                      1255\n",
      "8000-AGUA POTABLE OCC,                   341\n",
      "103-ALCANTARILLADO                        66\n",
      "1007-ALUMBRADO PÚBLICO MEDIDO             16\n",
      "1702-MOVILIDAD ELÉCTRICA CARGA INTE        9\n",
      "Name: count, dtype: int64\n",
      "\n",
      "\n",
      "Columna: OBSERVACION_ACTUAL\n",
      "OBSERVACION_ACTUAL\n",
      "35-NO HAY JUSTIFICACION              31318\n",
      "30-VARIACION NIVEL DE UTILIZACIÓN    25398\n",
      "0-SIN CAUSA NI OBSERVACIÓN           15725\n",
      "34-LECTURA MENOR                      6908\n",
      "31-MEDIDOR CAMBIADO                   6828\n",
      "39-VER ALFANUMERICA                   3427\n",
      "25-MEDIDOR PARADO O DAÑADO            1597\n",
      "23-INSTALACIÓN VACÍA                  1369\n",
      "24-VARIACIÓN NÚMERO DE PERSONAS        677\n",
      "21-FRAUDE                              562\n",
      "5-DESTRUIDO                            547\n",
      "0-SIN CAUSA NI OBSERVACIÓN             480\n",
      "29-REGISTRO DEVOLVIENDO                387\n",
      "9-SERVICIO DIRECTO                     336\n",
      "53-EXCLUIDO POR PERIODICIDAD           285\n",
      "38-VACÍA EN REFORMA O DEMOLICIÓN       101\n",
      "28-SIN SERVICIO CON MEDIDOR             67\n",
      "36-MEDIDORES TROCADOS                   53\n",
      "2-IMPOSIBILIDAD DE ACCESO               50\n",
      "11-SUSPENDIDA SIN MEDIDOR               42\n",
      "15-MEDIDOR PREPAGO                      35\n",
      "33-FUGA PERCEPTIBLE                     33\n",
      "8-DEMOLIDA                              25\n",
      "27-SE SURTE DE OTRA INSTALACIÓN         21\n",
      "22-CAMBIO DE ACTIVIDAD                  20\n",
      "19-REPARÓ DAÑO O FUGA                   13\n",
      "18-AGUA PROPIA O COMUNAL                13\n",
      "4-TAPADO INTERIORMENTE                   7\n",
      "20-FUGA IMPERCEPTIBLE                    7\n",
      "7-MEDIDOR DIGITAL                        3\n",
      "26-SURTE OTRAS INSTALACIONES             3\n",
      "3-PROFUNDO O MUY ALTO                    2\n",
      "100-LECTURA PROYECTADA RELECTURA         2\n",
      "1-NO EXISTE GEOGRAFICAMENTE              2\n",
      "42-ENERGÍA SUSTITUTA                     1\n",
      "12-NO LEIDA                              1\n",
      "Name: count, dtype: int64\n",
      "\n",
      "\n",
      "Columna: CONSUMO_CRITICADO\n",
      "CONSUMO_CRITICADO\n",
      " 0.000        17703\n",
      " 1.000         5785\n",
      " 99999.000     1165\n",
      "-1.000         1059\n",
      " 10.000         967\n",
      "              ...  \n",
      " 92.809           1\n",
      " 32.334           1\n",
      " 68.409           1\n",
      " 32014.333        1\n",
      " 75.666           1\n",
      "Name: count, Length: 19286, dtype: int64\n",
      "\n",
      "\n",
      "Columna: FUNCION_ANALISIS\n",
      "FUNCION_ANALISIS\n",
      "CALCCOLE - Calcular Consumo por Lecturas                                         40674\n",
      "PECALCCOLA - Calcular Consumo por Lectura Anterior                               23760\n",
      "PEOBTECOPP - Obtener Consumo Promedio Individual últimos meses parametrizados    11643\n",
      "CONSLEFC - Consumo por Lecturas aplicando Factor de Corrección                    7616\n",
      "CALCCOPR - Calcular Consumo Penalizado de Energía Reactiva                        4385\n",
      "AJUSARCO - Ajustar Consumo de Área Común                                          2810\n",
      "PESTACONS - Establecer Consumo Manual                                             2758\n",
      "AJUSARCO - Ajustar consumo de área común                                           700\n",
      "CONSLAFC - Consumo por Lectura anterior aplicando Factor de Corrección             498\n",
      "CALCCOLA - Calcular Consumo por Lectura Anterior                                   493\n",
      "PEDISCONEQ - Distribución Equitativa de los Consumos de un Período                 384\n",
      "PROPRICON - Prorratear primer consumo                                              377\n",
      "PECONSLAFC - Consumo por Lectura Anterior Aplicando Factor de Corrección           203\n",
      "PEOBTECOPS - Obtener Consumo Promedio Subcategoría                                  43\n",
      "RECUCOHA - Recuperar Consumos hacia Adelante                                         1\n",
      "Name: count, dtype: int64\n",
      "\n",
      "\n",
      "Columna: CALIFICACION\n",
      "CALIFICACION\n",
      "5080-MUY ALTO (>500%)                               32657\n",
      "2-ENVÍA A CRÍTICA                                   18835\n",
      "5036-BAJO ACUEDUCTO (<-65%)                         18032\n",
      "220-CONSUMO POR ESTIMACIONES MAYORES A PARAMETRO     8114\n",
      "5022-ALTO ACUEDUCTO (>65%)                           4968\n",
      "5084-CONTROLADA CON ORDEN DE CRÍTICA                 2902\n",
      "5031-BAJO ENERGIA (<-90%)                            2311\n",
      "5038-BAJO ACUEDUCTO (<-35%)                          2145\n",
      "5035-BAJO ENERGIA (<-50%)                            1893\n",
      "5020-ALTO ENERGIA (>80%)                              885\n",
      "48-POSIBLE INVESTIGACION                              790\n",
      "5024-ALTO ACUEDUCTO (>50%)                            582\n",
      "5034-BAJO ENERGIA (<-80%)                             488\n",
      "47-BAJO GAS (<-60%)                                   365\n",
      "5031-BAJO ENERGIA (<-90%) 5031                        310\n",
      "5019-ALTO ENERGIA (>100%)                             265\n",
      "5058-ALTO DELTA 35% A 50%                             215\n",
      "5085-ESTIMACION VALIDA                                157\n",
      "5017-ALTO ENERGIA (>300%)                             120\n",
      "5018-ALTO ENERGIA (>200%)                              73\n",
      "43-ALTO GAS (>60%)                                     49\n",
      "20-POR FUGA IMPERCEPTIBLE                              47\n",
      "46-BAJO GAS (<-90%)                                    47\n",
      "5042-BAJO ALCANTARILLADO (<-65%)                       29\n",
      "5044-BAJO ALCANTARILLADO (<-35%)                       25\n",
      "41-ALTO GAS (>200%)                                    10\n",
      "40-ALTO GAS (>300%)                                    10\n",
      "45-BAJO GAS (<-50%)                                     8\n",
      "42-ALTO GAS (>100%)                                     6\n",
      "39-ALTO GAS (>50%)                                      3\n",
      "5008-NORMAL ENERGIA(-50% A 50%)                         2\n",
      "5010-NORMAL ACUEDUCTO(-65% A 65%)                       1\n",
      "5007-NORMAL ENERGIA(-80% A 80%)                         1\n",
      "Name: count, dtype: int64\n",
      "\n",
      "\n"
     ]
    }
   ],
   "source": [
    "for col in datos.columns:\n",
    "    print(f\"Columna: {col}\")\n",
    "    print(datos[col].value_counts())\n",
    "    print(\"\\n\")\n"
   ]
  },
  {
   "cell_type": "code",
   "execution_count": 12,
   "metadata": {
    "colab": {
     "base_uri": "https://localhost:8080/"
    },
    "executionInfo": {
     "elapsed": 18,
     "status": "ok",
     "timestamp": 1746307008123,
     "user": {
      "displayName": "Jhon Fredy Ossa Patiño",
      "userId": "16604624739056177166"
     },
     "user_tz": 300
    },
    "id": "GZpV2-GL_Ohz",
    "outputId": "1aecefce-4c81-4dd6-b29b-6aaad280a6a9"
   },
   "outputs": [
    {
     "name": "stdout",
     "output_type": "stream",
     "text": [
      "La media para CONSUMO_CRITICADO es: 17564381.169776127\n",
      "La mediana para CONSUMO_CRITICADO es: 12.72\n",
      "La moda para CONSUMO_CRITICADO es: 0    0.0\n",
      "Name: CONSUMO_CRITICADO, dtype: float64\n",
      "La varianza para CONSUMO_CRITICADO: 7.644144316956561e+18\n",
      "La desviacion estandar para CONSUMO_CRITICADO es: 2764804571.20509\n",
      "El coeficiente de variacion para CONSUMO_CRITICADO es: 15740.973419334705\n",
      "El rango para CONSUMO_CRITICADO es: 733317044142.145\n"
     ]
    }
   ],
   "source": [
    "#Media\n",
    "Media = datos['CONSUMO_CRITICADO'].mean()\n",
    "print('La media para CONSUMO_CRITICADO es:', Media)\n",
    "\n",
    "#Mediana\n",
    "Mediana = datos['CONSUMO_CRITICADO'].median()\n",
    "print('La mediana para CONSUMO_CRITICADO es:', Mediana)\n",
    "\n",
    "#Moda\n",
    "Moda = datos['CONSUMO_CRITICADO'].mode()\n",
    "print('La moda para CONSUMO_CRITICADO es:', Moda)\n",
    "\n",
    "#Varianza\n",
    "varianza = datos['CONSUMO_CRITICADO'].var()\n",
    "print('La varianza para CONSUMO_CRITICADO:', varianza)\n",
    "\n",
    "#Desviacion estandar\n",
    "desviacion = np.sqrt(varianza)\n",
    "print('La desviacion estandar para CONSUMO_CRITICADO es:', desviacion)\n",
    "\n",
    "#Coeficiente de variacion\n",
    "coeficiente = (desviacion/Media)*100\n",
    "print('El coeficiente de variacion para CONSUMO_CRITICADO es:', coeficiente)\n",
    "\n",
    "#Rango\n",
    "rango = datos['CONSUMO_CRITICADO'].max()- datos['CONSUMO_CRITICADO'].min()\n",
    "print('El rango para CONSUMO_CRITICADO es:', rango)"
   ]
  },
  {
   "cell_type": "code",
   "execution_count": null,
   "metadata": {
    "colab": {
     "base_uri": "https://localhost:8080/"
    },
    "executionInfo": {
     "elapsed": 9,
     "status": "ok",
     "timestamp": 1746308150090,
     "user": {
      "displayName": "Jhon Fredy Ossa Patiño",
      "userId": "16604624739056177166"
     },
     "user_tz": 300
    },
    "id": "7PEGfcsuEvl7",
    "outputId": "a28a90ec-c131-4623-f669-63bce4897d4a"
   },
   "outputs": [
    {
     "name": "stdout",
     "output_type": "stream",
     "text": [
      "Análisis descriptivo de la columna: CONSUMO_CRITICADO\n",
      "La media de la columna CONSUMO_CRITICADO es: 17564381.169776127\n",
      "La mediana de la columna CONSUMO_CRITICADO es: 12.72\n",
      "La moda de la columna CONSUMO_CRITICADO es: 0.0\n",
      "--------------------\n"
     ]
    }
   ],
   "source": [
    "#Analisis de media, mediana y moda para cada una de las tres variables a analizar para el modelo.\n",
    "numericas = [\"CONSUMO_CRITICADO\"]\n",
    "for col in [\"CONSUMO_CRITICADO\"]:\n",
    "  media = datos[col].mean()\n",
    "  mediana = datos[col].median()\n",
    "  moda = datos[col].mode()[0]\n",
    "  print(f\"Análisis descriptivo de la columna: {col}\")\n",
    "  print(f'La media de la columna {col} es: {media}')\n",
    "  print(f'La mediana de la columna {col} es: {mediana}')\n",
    "  print(f'La moda de la columna {col} es: {moda}')\n",
    "  print(\"-\" * 20)"
   ]
  },
  {
   "cell_type": "code",
   "execution_count": null,
   "metadata": {
    "colab": {
     "base_uri": "https://localhost:8080/"
    },
    "executionInfo": {
     "elapsed": 9,
     "status": "ok",
     "timestamp": 1746308198979,
     "user": {
      "displayName": "Jhon Fredy Ossa Patiño",
      "userId": "16604624739056177166"
     },
     "user_tz": 300
    },
    "id": "GJbGsoPaFDu6",
    "outputId": "84c506f9-686f-459e-fdf6-06a0e3e53541"
   },
   "outputs": [
    {
     "name": "stdout",
     "output_type": "stream",
     "text": [
      "Análisis de la columna: CONSUMO_CRITICADO\n",
      "Varianza = 7.644144316960542e+18\n",
      "Desviación estándar = 2764804571.2058096\n",
      "Máximo = 733315443334.145\n",
      "Mínimo = -1600808.0\n",
      "Rango = 733317044142.145\n",
      "--------------------\n"
     ]
    }
   ],
   "source": [
    "#Generacion de medidas de tendencia central: desviacion estandar, varianza con sus respectivos minimos, rangos y maximos.\n",
    "for col in numericas:\n",
    "    varianza = datos[col].var()\n",
    "    desviacion = datos[col].std()\n",
    "    maximo = datos[col].max()\n",
    "    minimo = datos[col].min()\n",
    "    rango = maximo - minimo\n",
    "    print(f\"Análisis de la columna: {col}\")\n",
    "    print(f'Varianza = {varianza}')\n",
    "    print(f'Desviación estándar = {desviacion}')\n",
    "    print(f'Máximo = {maximo}')\n",
    "    print(f'Mínimo = {minimo}')\n",
    "    print(f'Rango = {rango}')\n",
    "    print(\"-\" * 20)"
   ]
  },
  {
   "cell_type": "code",
   "execution_count": null,
   "metadata": {
    "colab": {
     "base_uri": "https://localhost:8080/"
    },
    "executionInfo": {
     "elapsed": 11,
     "status": "ok",
     "timestamp": 1746308267375,
     "user": {
      "displayName": "Jhon Fredy Ossa Patiño",
      "userId": "16604624739056177166"
     },
     "user_tz": 300
    },
    "id": "ooEDlQ-HFT_a",
    "outputId": "cdd5126d-ec96-4778-b6bc-7762b1e87372"
   },
   "outputs": [
    {
     "name": "stdout",
     "output_type": "stream",
     "text": [
      "Análisis de la columna: CONSUMO_CRITICADO\n",
      "Asimetría = 223.57145610476437\n",
      "Curtosis = 55000.94786198027\n",
      "--------------------\n"
     ]
    }
   ],
   "source": [
    "#Generacion de las medidas de variabilidad: curtosis y asimetria\n",
    "for col in numericas:\n",
    "    asimetria = datos[col].skew()\n",
    "    curtosis = datos[col].kurt()\n",
    "    print(f\"Análisis de la columna: {col}\")\n",
    "    print(f'Asimetría = {asimetria}')\n",
    "    print(f'Curtosis = {curtosis}')\n",
    "    print(\"-\" * 20)"
   ]
  },
  {
   "cell_type": "code",
   "execution_count": null,
   "metadata": {
    "colab": {
     "base_uri": "https://localhost:8080/"
    },
    "executionInfo": {
     "elapsed": 13,
     "status": "ok",
     "timestamp": 1746307085135,
     "user": {
      "displayName": "Jhon Fredy Ossa Patiño",
      "userId": "16604624739056177166"
     },
     "user_tz": 300
    },
    "id": "zWb5zIQ7Aqwg",
    "outputId": "c4cd11a0-0f2c-4914-fa91-9d04ea4cd77d"
   },
   "outputs": [
    {
     "name": "stdout",
     "output_type": "stream",
     "text": [
      "El coeficiente de asimetria para CONSUMO_CRITICADO es: 223.57145610476437\n",
      "El coeficiente de kurtosis para CONSUMO_CRITICADO es: 55000.94786198027\n"
     ]
    }
   ],
   "source": [
    "#Coeficiente de asimetria\n",
    "asimetria = datos['CONSUMO_CRITICADO'].skew()\n",
    "print('El coeficiente de asimetria para CONSUMO_CRITICADO es:', asimetria)\n",
    "\n",
    "#Coeficiente de kurtosis\n",
    "kurtosis = datos['CONSUMO_CRITICADO'].kurt()\n",
    "print('El coeficiente de kurtosis para CONSUMO_CRITICADO es:', kurtosis)"
   ]
  },
  {
   "cell_type": "code",
   "execution_count": null,
   "metadata": {
    "colab": {
     "base_uri": "https://localhost:8080/"
    },
    "executionInfo": {
     "elapsed": 11,
     "status": "ok",
     "timestamp": 1746307160997,
     "user": {
      "displayName": "Jhon Fredy Ossa Patiño",
      "userId": "16604624739056177166"
     },
     "user_tz": 300
    },
    "id": "cvv1cPWqA_f6",
    "outputId": "050a4e3e-7c59-471f-cd93-323a65a94cd5"
   },
   "outputs": [
    {
     "name": "stdout",
     "output_type": "stream",
     "text": [
      "1.0 51.0\n",
      "El 33% de los valores para CONSUMO_CRITICADO son menores o iguales a: 1.0\n",
      "El 66% de los valores para CONSUMO_CRITICADO son menores o iguales a: 51.0\n"
     ]
    }
   ],
   "source": [
    "#Tercios\n",
    "Q1 = np.percentile(datos['CONSUMO_CRITICADO'],33)\n",
    "Q2 = np.percentile(datos['CONSUMO_CRITICADO'],66)\n",
    "print(Q1,Q2)\n",
    "print('El 33% de los valores para CONSUMO_CRITICADO son menores o iguales a:', Q1)\n",
    "print('El 66% de los valores para CONSUMO_CRITICADO son menores o iguales a:', Q2)"
   ]
  },
  {
   "cell_type": "code",
   "execution_count": null,
   "metadata": {
    "colab": {
     "base_uri": "https://localhost:8080/"
    },
    "executionInfo": {
     "elapsed": 47,
     "status": "ok",
     "timestamp": 1746307258571,
     "user": {
      "displayName": "Jhon Fredy Ossa Patiño",
      "userId": "16604624739056177166"
     },
     "user_tz": 300
    },
    "id": "4Otzm3WZBSFY",
    "outputId": "21acaa45-66a8-4104-e3b2-446120b31458"
   },
   "outputs": [
    {
     "name": "stdout",
     "output_type": "stream",
     "text": [
      "0.0 12.72 175.0\n",
      "El 25% de los valores para CONSUMO_CRITICADO son menores o iguales a: 0.0\n",
      "El 50% de los valores para CONSUMO_CRITICADO son menores o iguales a: 12.72\n",
      "El 75% de los valores para CONSUMO_CRITICADO son menores o iguales a: 175.0\n"
     ]
    }
   ],
   "source": [
    "#Cuartiles\n",
    "Cuartil1 = np.percentile(datos['CONSUMO_CRITICADO'],25)\n",
    "Cuartil2 = np.percentile(datos['CONSUMO_CRITICADO'],50)\n",
    "Cuartil3 = np.percentile(datos['CONSUMO_CRITICADO'],75)\n",
    "print(Cuartil1,Cuartil2,Cuartil3)\n",
    "print('El 25% de los valores para CONSUMO_CRITICADO son menores o iguales a:', Cuartil1)\n",
    "print('El 50% de los valores para CONSUMO_CRITICADO son menores o iguales a:', Cuartil2)\n",
    "print('El 75% de los valores para CONSUMO_CRITICADO son menores o iguales a:', Cuartil3)"
   ]
  },
  {
   "cell_type": "code",
   "execution_count": null,
   "metadata": {
    "colab": {
     "base_uri": "https://localhost:8080/",
     "height": 764
    },
    "executionInfo": {
     "elapsed": 368,
     "status": "ok",
     "timestamp": 1746307393903,
     "user": {
      "displayName": "Jhon Fredy Ossa Patiño",
      "userId": "16604624739056177166"
     },
     "user_tz": 300
    },
    "id": "175nzB4-BpBp",
    "outputId": "a3af131d-9cd9-4415-dd65-08a93f7c1635"
   },
   "outputs": [
    {
     "name": "stdout",
     "output_type": "stream",
     "text": [
      "                               SERVICIO  CONSUMO_CRITICADO\n",
      "0         1007-ALUMBRADO PÚBLICO MEDIDO       8.340887e+03\n",
      "1                      101-AGUA POTABLE       7.182997e+03\n",
      "2                    103-ALCANTARILLADO       1.646345e+05\n",
      "3   1702-MOVILIDAD ELÉCTRICA CARGA INTE       5.383298e+02\n",
      "4              240-AGUA POTABLE MALAMBO       1.502988e+04\n",
      "5      249-AGUA POTABLE DE RIONEGRO ANT       5.938313e+03\n",
      "6              501-GAS NATURAL REGULADO       1.602036e+04\n",
      "7              701-ENERGÍA MDO REGULADO       6.225341e+07\n",
      "8                    709-MACROMEDIDORES       1.510400e+07\n",
      "9     7505-GAS NATURAL COMPRIMIDO (GNC)       4.970973e+04\n",
      "10               8000-AGUA POTABLE OCC,       6.053589e+03\n",
      "11               8000-AGUA POTABLE OCC.       2.132553e+03\n",
      "12              8003-AGUA POTABLE URABA       2.167613e+04\n"
     ]
    },
    {
     "data": {
      "image/png": "[encoded data removed]",
      "text/plain": [
       "<Figure size 600x600 with 1 Axes>"
      ]
     },
     "metadata": {},
     "output_type": "display_data"
    }
   ],
   "source": [
    "#Calcular el promedio de consumo criticado por servicio\n",
    "df_promedio = datos.groupby(['SERVICIO'], as_index=False)['CONSUMO_CRITICADO'].mean()\n",
    "\n",
    "print(df_promedio)\n",
    "\n",
    "#Crear el grafico de torta\n",
    "plt.figure(figsize=(6, 6))\n",
    "plt.pie(df_promedio['CONSUMO_CRITICADO'], labels=df_promedio['SERVICIO'], autopct='%1.1f%%', startangle=90)\n",
    "plt.title('Participación promedio consumo de gas por estado')\n",
    "plt.show()"
   ]
  },
  {
   "cell_type": "code",
   "execution_count": null,
   "metadata": {
    "colab": {
     "base_uri": "https://localhost:8080/",
     "height": 764
    },
    "executionInfo": {
     "elapsed": 252,
     "status": "ok",
     "timestamp": 1746307505635,
     "user": {
      "displayName": "Jhon Fredy Ossa Patiño",
      "userId": "16604624739056177166"
     },
     "user_tz": 300
    },
    "id": "TfOqrKsBCTO4",
    "outputId": "9cc9f2fe-074d-46bb-c098-bf4fb3ab5f51"
   },
   "outputs": [
    {
     "name": "stdout",
     "output_type": "stream",
     "text": [
      "                               SERVICIO  CONSUMO_CRITICADO\n",
      "0         1007-ALUMBRADO PÚBLICO MEDIDO                 16\n",
      "1                      101-AGUA POTABLE              43139\n",
      "2                    103-ALCANTARILLADO                 66\n",
      "3   1702-MOVILIDAD ELÉCTRICA CARGA INTE                  9\n",
      "4              240-AGUA POTABLE MALAMBO               3066\n",
      "5      249-AGUA POTABLE DE RIONEGRO ANT               6037\n",
      "6              501-GAS NATURAL REGULADO               7462\n",
      "7              701-ENERGÍA MDO REGULADO              26867\n",
      "8                    709-MACROMEDIDORES               1255\n",
      "9     7505-GAS NATURAL COMPRIMIDO (GNC)               1943\n",
      "10               8000-AGUA POTABLE OCC,                341\n",
      "11               8000-AGUA POTABLE OCC.               1619\n",
      "12              8003-AGUA POTABLE URABA               4525\n"
     ]
    },
    {
     "data": {
      "image/png": "[encoded data removed]",
      "text/plain": [
       "<Figure size 600x600 with 1 Axes>"
      ]
     },
     "metadata": {},
     "output_type": "display_data"
    }
   ],
   "source": [
    "#Calcular el promedio de consumo criticado por servicio\n",
    "df_conteo = datos.groupby(['SERVICIO'], as_index=False)['CONSUMO_CRITICADO'].count()\n",
    "\n",
    "print(df_conteo)\n",
    "\n",
    "#Crear el grafico de torta\n",
    "plt.figure(figsize=(6, 6))\n",
    "plt.pie(df_conteo['CONSUMO_CRITICADO'], labels=df_conteo['SERVICIO'], autopct='%1.1f%%', startangle=90)\n",
    "plt.title('Participación promedio consumo de gas por estado')\n",
    "plt.show()"
   ]
  },
  {
   "cell_type": "code",
   "execution_count": null,
   "metadata": {
    "colab": {
     "base_uri": "https://localhost:8080/",
     "height": 551
    },
    "executionInfo": {
     "elapsed": 50,
     "status": "ok",
     "timestamp": 1746307874947,
     "user": {
      "displayName": "Jhon Fredy Ossa Patiño",
      "userId": "16604624739056177166"
     },
     "user_tz": 300
    },
    "id": "OAMJ9yJvDI3P",
    "outputId": "d6fc7b8f-8fa0-4e63-cdc8-d6a2c812c911"
   },
   "outputs": [
    {
     "data": {
      "application/vnd.google.colaboratory.intrinsic+json": {
       "summary": "{\n  \"name\": \"datos\",\n  \"rows\": 15,\n  \"fields\": [\n    {\n      \"column\": \"FUNCION_ANALISIS\",\n      \"properties\": {\n        \"dtype\": \"string\",\n        \"num_unique_values\": 15,\n        \"samples\": [\n          \"PEDISCONEQ - Distribuci\\u00f3n Equitativa de los Consumos de un Per\\u00edodo\",\n          \"PEOBTECOPS - Obtener Consumo Promedio Subcategor\\u00eda\",\n          \"AJUSARCO - Ajustar Consumo de \\u00c1rea Com\\u00fan\"\n        ],\n        \"semantic_type\": \"\",\n        \"description\": \"\"\n      }\n    },\n    {\n      \"column\": 0,\n      \"properties\": {\n        \"dtype\": \"number\",\n        \"std\": 91.3456219807568,\n        \"min\": 0.0,\n        \"max\": 341.8917777777778,\n        \"num_unique_values\": 15,\n        \"samples\": [\n          341.8917777777778,\n          30.23466666666667,\n          37.26794535519125\n        ],\n        \"semantic_type\": \"\",\n        \"description\": \"\"\n      }\n    },\n    {\n      \"column\": 1,\n      \"properties\": {\n        \"dtype\": \"number\",\n        \"std\": 36418630.776884764,\n        \"min\": -5455.64036939314,\n        \"max\": 121293935.75208405,\n        \"num_unique_values\": 14,\n        \"samples\": [\n          133303.45193333333,\n          127.92605405405406,\n          -5455.64036939314\n        ],\n        \"semantic_type\": \"\",\n        \"description\": \"\"\n      }\n    }\n  ]\n}",
       "type": "dataframe"
      },
      "text/html": [
       "\n",
       "  <div id=\"df-feb14021-a043-4a2e-a54a-6fa3b1184c5e\" class=\"colab-df-container\">\n",
       "    <div>\n",
       "<style scoped>\n",
       "    .dataframe tbody tr th:only-of-type {\n",
       "        vertical-align: middle;\n",
       "    }\n",
       "\n",
       "    .dataframe tbody tr th {\n",
       "        vertical-align: top;\n",
       "    }\n",
       "\n",
       "    .dataframe thead th {\n",
       "        text-align: right;\n",
       "    }\n",
       "</style>\n",
       "<table border=\"1\" class=\"dataframe\">\n",
       "  <thead>\n",
       "    <tr style=\"text-align: right;\">\n",
       "      <th>RESPUESTA</th>\n",
       "      <th>0</th>\n",
       "      <th>1</th>\n",
       "    </tr>\n",
       "    <tr>\n",
       "      <th>FUNCION_ANALISIS</th>\n",
       "      <th></th>\n",
       "      <th></th>\n",
       "    </tr>\n",
       "  </thead>\n",
       "  <tbody>\n",
       "    <tr>\n",
       "      <th>AJUSARCO - Ajustar Consumo de Área Común</th>\n",
       "      <td>37.267945</td>\n",
       "      <td>-5.455640e+03</td>\n",
       "    </tr>\n",
       "    <tr>\n",
       "      <th>AJUSARCO - Ajustar consumo de área común</th>\n",
       "      <td>15.274008</td>\n",
       "      <td>4.257047e+04</td>\n",
       "    </tr>\n",
       "    <tr>\n",
       "      <th>CALCCOLA - Calcular Consumo por Lectura Anterior</th>\n",
       "      <td>123.196176</td>\n",
       "      <td>3.961108e+03</td>\n",
       "    </tr>\n",
       "    <tr>\n",
       "      <th>CALCCOLE - Calcular Consumo por Lecturas</th>\n",
       "      <td>153.971332</td>\n",
       "      <td>9.254201e+06</td>\n",
       "    </tr>\n",
       "    <tr>\n",
       "      <th>CALCCOPR - Calcular Consumo Penalizado de Energía Reactiva</th>\n",
       "      <td>1.593676</td>\n",
       "      <td>1.212939e+08</td>\n",
       "    </tr>\n",
       "    <tr>\n",
       "      <th>CONSLAFC - Consumo por Lectura anterior aplicando Factor de Corrección</th>\n",
       "      <td>22.051640</td>\n",
       "      <td>5.392087e+04</td>\n",
       "    </tr>\n",
       "    <tr>\n",
       "      <th>CONSLEFC - Consumo por Lecturas aplicando Factor de Corrección</th>\n",
       "      <td>31.469793</td>\n",
       "      <td>3.778444e+04</td>\n",
       "    </tr>\n",
       "    <tr>\n",
       "      <th>PECALCCOLA - Calcular Consumo por Lectura Anterior</th>\n",
       "      <td>81.019497</td>\n",
       "      <td>7.370714e+07</td>\n",
       "    </tr>\n",
       "    <tr>\n",
       "      <th>PECONSLAFC - Consumo por Lectura Anterior Aplicando Factor de Corrección</th>\n",
       "      <td>11.744500</td>\n",
       "      <td>2.408566e+04</td>\n",
       "    </tr>\n",
       "    <tr>\n",
       "      <th>PEDISCONEQ - Distribución Equitativa de los Consumos de un Período</th>\n",
       "      <td>341.891778</td>\n",
       "      <td>1.333035e+05</td>\n",
       "    </tr>\n",
       "    <tr>\n",
       "      <th>PEOBTECOPP - Obtener Consumo Promedio Individual últimos meses parametrizados</th>\n",
       "      <td>124.874626</td>\n",
       "      <td>3.852961e+02</td>\n",
       "    </tr>\n",
       "    <tr>\n",
       "      <th>PEOBTECOPS - Obtener Consumo Promedio Subcategoría</th>\n",
       "      <td>30.234667</td>\n",
       "      <td>1.279261e+02</td>\n",
       "    </tr>\n",
       "    <tr>\n",
       "      <th>PESTACONS - Establecer Consumo Manual</th>\n",
       "      <td>0.000000</td>\n",
       "      <td>2.867908e+00</td>\n",
       "    </tr>\n",
       "    <tr>\n",
       "      <th>PROPRICON - Prorratear primer consumo</th>\n",
       "      <td>12.687468</td>\n",
       "      <td>2.011695e+02</td>\n",
       "    </tr>\n",
       "    <tr>\n",
       "      <th>RECUCOHA - Recuperar Consumos hacia Adelante</th>\n",
       "      <td>3.500000</td>\n",
       "      <td>NaN</td>\n",
       "    </tr>\n",
       "  </tbody>\n",
       "</table>\n",
       "</div>\n",
       "    <div class=\"colab-df-buttons\">\n",
       "\n",
       "  <div class=\"colab-df-container\">\n",
       "    <button class=\"colab-df-convert\" onclick=\"convertToInteractive('df-feb14021-a043-4a2e-a54a-6fa3b1184c5e')\"\n",
       "            title=\"Convert this dataframe to an interactive table.\"\n",
       "            style=\"display:none;\">\n",
       "\n",
       "  <svg xmlns=\"http://www.w3.org/2000/svg\" height=\"24px\" viewBox=\"0 -960 960 960\">\n",
       "    <path d=\"M120-120v-720h720v720H120Zm60-500h600v-160H180v160Zm220 220h160v-160H400v160Zm0 220h160v-160H400v160ZM180-400h160v-160H180v160Zm440 0h160v-160H620v160ZM180-180h160v-160H180v160Zm440 0h160v-160H620v160Z\"/>\n",
       "  </svg>\n",
       "    </button>\n",
       "\n",
       "  <style>\n",
       "    .colab-df-container {\n",
       "      display:flex;\n",
       "      gap: 12px;\n",
       "    }\n",
       "\n",
       "    .colab-df-convert {\n",
       "      background-color: #E8F0FE;\n",
       "      border: none;\n",
       "      border-radius: 50%;\n",
       "      cursor: pointer;\n",
       "      display: none;\n",
       "      fill: #1967D2;\n",
       "      height: 32px;\n",
       "      padding: 0 0 0 0;\n",
       "      width: 32px;\n",
       "    }\n",
       "\n",
       "    .colab-df-convert:hover {\n",
       "      background-color: #E2EBFA;\n",
       "      box-shadow: 0px 1px 2px rgba(60, 64, 67, 0.3), 0px 1px 3px 1px rgba(60, 64, 67, 0.15);\n",
       "      fill: #174EA6;\n",
       "    }\n",
       "\n",
       "    .colab-df-buttons div {\n",
       "      margin-bottom: 4px;\n",
       "    }\n",
       "\n",
       "    [theme=dark] .colab-df-convert {\n",
       "      background-color: #3B4455;\n",
       "      fill: #D2E3FC;\n",
       "    }\n",
       "\n",
       "    [theme=dark] .colab-df-convert:hover {\n",
       "      background-color: #434B5C;\n",
       "      box-shadow: 0px 1px 3px 1px rgba(0, 0, 0, 0.15);\n",
       "      filter: drop-shadow(0px 1px 2px rgba(0, 0, 0, 0.3));\n",
       "      fill: #FFFFFF;\n",
       "    }\n",
       "  </style>\n",
       "\n",
       "    <script>\n",
       "      const buttonEl =\n",
       "        document.querySelector('#df-feb14021-a043-4a2e-a54a-6fa3b1184c5e button.colab-df-convert');\n",
       "      buttonEl.style.display =\n",
       "        google.colab.kernel.accessAllowed ? 'block' : 'none';\n",
       "\n",
       "      async function convertToInteractive(key) {\n",
       "        const element = document.querySelector('#df-feb14021-a043-4a2e-a54a-6fa3b1184c5e');\n",
       "        const dataTable =\n",
       "          await google.colab.kernel.invokeFunction('convertToInteractive',\n",
       "                                                    [key], {});\n",
       "        if (!dataTable) return;\n",
       "\n",
       "        const docLinkHtml = 'Like what you see? Visit the ' +\n",
       "          '<a target=\"_blank\" href=https://colab.research.google.com/notebooks/data_table.ipynb>data table notebook</a>'\n",
       "          + ' to learn more about interactive tables.';\n",
       "        element.innerHTML = '';\n",
       "        dataTable['output_type'] = 'display_data';\n",
       "        await google.colab.output.renderOutput(dataTable, element);\n",
       "        const docLink = document.createElement('div');\n",
       "        docLink.innerHTML = docLinkHtml;\n",
       "        element.appendChild(docLink);\n",
       "      }\n",
       "    </script>\n",
       "  </div>\n",
       "\n",
       "\n",
       "    <div id=\"df-0fef09e7-dd21-48f7-9356-8406f1c08213\">\n",
       "      <button class=\"colab-df-quickchart\" onclick=\"quickchart('df-0fef09e7-dd21-48f7-9356-8406f1c08213')\"\n",
       "                title=\"Suggest charts\"\n",
       "                style=\"display:none;\">\n",
       "\n",
       "<svg xmlns=\"http://www.w3.org/2000/svg\" height=\"24px\"viewBox=\"0 0 24 24\"\n",
       "     width=\"24px\">\n",
       "    <g>\n",
       "        <path d=\"M19 3H5c-1.1 0-2 .9-2 2v14c0 1.1.9 2 2 2h14c1.1 0 2-.9 2-2V5c0-1.1-.9-2-2-2zM9 17H7v-7h2v7zm4 0h-2V7h2v10zm4 0h-2v-4h2v4z\"/>\n",
       "    </g>\n",
       "</svg>\n",
       "      </button>\n",
       "\n",
       "<style>\n",
       "  .colab-df-quickchart {\n",
       "      --bg-color: #E8F0FE;\n",
       "      --fill-color: #1967D2;\n",
       "      --hover-bg-color: #E2EBFA;\n",
       "      --hover-fill-color: #174EA6;\n",
       "      --disabled-fill-color: #AAA;\n",
       "      --disabled-bg-color: #DDD;\n",
       "  }\n",
       "\n",
       "  [theme=dark] .colab-df-quickchart {\n",
       "      --bg-color: #3B4455;\n",
       "      --fill-color: #D2E3FC;\n",
       "      --hover-bg-color: #434B5C;\n",
       "      --hover-fill-color: #FFFFFF;\n",
       "      --disabled-bg-color: #3B4455;\n",
       "      --disabled-fill-color: #666;\n",
       "  }\n",
       "\n",
       "  .colab-df-quickchart {\n",
       "    background-color: var(--bg-color);\n",
       "    border: none;\n",
       "    border-radius: 50%;\n",
       "    cursor: pointer;\n",
       "    display: none;\n",
       "    fill: var(--fill-color);\n",
       "    height: 32px;\n",
       "    padding: 0;\n",
       "    width: 32px;\n",
       "  }\n",
       "\n",
       "  .colab-df-quickchart:hover {\n",
       "    background-color: var(--hover-bg-color);\n",
       "    box-shadow: 0 1px 2px rgba(60, 64, 67, 0.3), 0 1px 3px 1px rgba(60, 64, 67, 0.15);\n",
       "    fill: var(--button-hover-fill-color);\n",
       "  }\n",
       "\n",
       "  .colab-df-quickchart-complete:disabled,\n",
       "  .colab-df-quickchart-complete:disabled:hover {\n",
       "    background-color: var(--disabled-bg-color);\n",
       "    fill: var(--disabled-fill-color);\n",
       "    box-shadow: none;\n",
       "  }\n",
       "\n",
       "  .colab-df-spinner {\n",
       "    border: 2px solid var(--fill-color);\n",
       "    border-color: transparent;\n",
       "    border-bottom-color: var(--fill-color);\n",
       "    animation:\n",
       "      spin 1s steps(1) infinite;\n",
       "  }\n",
       "\n",
       "  @keyframes spin {\n",
       "    0% {\n",
       "      border-color: transparent;\n",
       "      border-bottom-color: var(--fill-color);\n",
       "      border-left-color: var(--fill-color);\n",
       "    }\n",
       "    20% {\n",
       "      border-color: transparent;\n",
       "      border-left-color: var(--fill-color);\n",
       "      border-top-color: var(--fill-color);\n",
       "    }\n",
       "    30% {\n",
       "      border-color: transparent;\n",
       "      border-left-color: var(--fill-color);\n",
       "      border-top-color: var(--fill-color);\n",
       "      border-right-color: var(--fill-color);\n",
       "    }\n",
       "    40% {\n",
       "      border-color: transparent;\n",
       "      border-right-color: var(--fill-color);\n",
       "      border-top-color: var(--fill-color);\n",
       "    }\n",
       "    60% {\n",
       "      border-color: transparent;\n",
       "      border-right-color: var(--fill-color);\n",
       "    }\n",
       "    80% {\n",
       "      border-color: transparent;\n",
       "      border-right-color: var(--fill-color);\n",
       "      border-bottom-color: var(--fill-color);\n",
       "    }\n",
       "    90% {\n",
       "      border-color: transparent;\n",
       "      border-bottom-color: var(--fill-color);\n",
       "    }\n",
       "  }\n",
       "</style>\n",
       "\n",
       "      <script>\n",
       "        async function quickchart(key) {\n",
       "          const quickchartButtonEl =\n",
       "            document.querySelector('#' + key + ' button');\n",
       "          quickchartButtonEl.disabled = true;  // To prevent multiple clicks.\n",
       "          quickchartButtonEl.classList.add('colab-df-spinner');\n",
       "          try {\n",
       "            const charts = await google.colab.kernel.invokeFunction(\n",
       "                'suggestCharts', [key], {});\n",
       "          } catch (error) {\n",
       "            console.error('Error during call to suggestCharts:', error);\n",
       "          }\n",
       "          quickchartButtonEl.classList.remove('colab-df-spinner');\n",
       "          quickchartButtonEl.classList.add('colab-df-quickchart-complete');\n",
       "        }\n",
       "        (() => {\n",
       "          let quickchartButtonEl =\n",
       "            document.querySelector('#df-0fef09e7-dd21-48f7-9356-8406f1c08213 button');\n",
       "          quickchartButtonEl.style.display =\n",
       "            google.colab.kernel.accessAllowed ? 'block' : 'none';\n",
       "        })();\n",
       "      </script>\n",
       "    </div>\n",
       "\n",
       "    </div>\n",
       "  </div>\n"
      ],
      "text/plain": [
       "RESPUESTA                                                    0             1\n",
       "FUNCION_ANALISIS                                                            \n",
       "AJUSARCO - Ajustar Consumo de Área Común             37.267945 -5.455640e+03\n",
       "AJUSARCO - Ajustar consumo de área común             15.274008  4.257047e+04\n",
       "CALCCOLA - Calcular Consumo por Lectura Anterior    123.196176  3.961108e+03\n",
       "CALCCOLE - Calcular Consumo por Lecturas            153.971332  9.254201e+06\n",
       "CALCCOPR - Calcular Consumo Penalizado de Energ...    1.593676  1.212939e+08\n",
       "CONSLAFC - Consumo por Lectura anterior aplican...   22.051640  5.392087e+04\n",
       "CONSLEFC - Consumo por Lecturas aplicando Facto...   31.469793  3.778444e+04\n",
       "PECALCCOLA - Calcular Consumo por Lectura Anterior   81.019497  7.370714e+07\n",
       "PECONSLAFC - Consumo por Lectura Anterior Aplic...   11.744500  2.408566e+04\n",
       "PEDISCONEQ - Distribución Equitativa de los Con...  341.891778  1.333035e+05\n",
       "PEOBTECOPP - Obtener Consumo Promedio Individua...  124.874626  3.852961e+02\n",
       "PEOBTECOPS - Obtener Consumo Promedio Subcategoría   30.234667  1.279261e+02\n",
       "PESTACONS - Establecer Consumo Manual                 0.000000  2.867908e+00\n",
       "PROPRICON - Prorratear primer consumo                12.687468  2.011695e+02\n",
       "RECUCOHA - Recuperar Consumos hacia Adelante          3.500000           NaN"
      ]
     },
     "execution_count": 28,
     "metadata": {},
     "output_type": "execute_result"
    }
   ],
   "source": [
    "datos.pivot_table(index = \"FUNCION_ANALISIS\", columns = \"RESPUESTA\", values = \"CONSUMO_CRITICADO\", aggfunc = \"mean\")"
   ]
  },
  {
   "cell_type": "code",
   "execution_count": 40,
   "metadata": {
    "colab": {
     "base_uri": "https://localhost:8080/",
     "height": 908
    },
    "executionInfo": {
     "elapsed": 998,
     "status": "ok",
     "timestamp": 1746309641601,
     "user": {
      "displayName": "Jhon Fredy Ossa Patiño",
      "userId": "16604624739056177166"
     },
     "user_tz": 300
    },
    "id": "n5xL84tjKNxL",
    "outputId": "2bcf359e-2333-4c2f-82b0-b8046c139f9f"
   },
   "outputs": [
    {
     "data": {
      "text/plain": [
       "([0, 1, 2, 3, 4, 5, 6, 7, 8, 9, 10, 11, 12],\n",
       " [Text(0, 0, '101-AGUA POTABLE'),\n",
       "  Text(1, 0, '701-ENERGÍA MDO REGULADO'),\n",
       "  Text(2, 0, '501-GAS NATURAL REGULADO'),\n",
       "  Text(3, 0, '1702-MOVILIDAD ELÉCTRICA CARGA INTE'),\n",
       "  Text(4, 0, '8000-AGUA POTABLE OCC.'),\n",
       "  Text(5, 0, '8003-AGUA POTABLE URABA'),\n",
       "  Text(6, 0, '7505-GAS NATURAL COMPRIMIDO (GNC)'),\n",
       "  Text(7, 0, '240-AGUA POTABLE MALAMBO'),\n",
       "  Text(8, 0, '249-AGUA POTABLE DE RIONEGRO ANT'),\n",
       "  Text(9, 0, '103-ALCANTARILLADO'),\n",
       "  Text(10, 0, '709-MACROMEDIDORES'),\n",
       "  Text(11, 0, '1007-ALUMBRADO PÚBLICO MEDIDO'),\n",
       "  Text(12, 0, '8000-AGUA POTABLE OCC,')])"
      ]
     },
     "execution_count": 40,
     "metadata": {},
     "output_type": "execute_result"
    },
    {
     "data": {
      "image/png": "[encoded data removed]",
      "text/plain": [
       "<Figure size 640x480 with 1 Axes>"
      ]
     },
     "metadata": {},
     "output_type": "display_data"
    }
   ],
   "source": [
    "#Diagrama Box plot\n",
    "sns.boxplot(x = 'SERVICIO', y= 'CONSUMO_CRITICADO', data = datos)\n",
    "plt.xticks(rotation=45)\n"
   ]
  },
  {
   "cell_type": "code",
   "execution_count": 13,
   "metadata": {
    "executionInfo": {
     "elapsed": 1319,
     "status": "ok",
     "timestamp": 1746312443723,
     "user": {
      "displayName": "Jhon Fredy Ossa Patiño",
      "userId": "16604624739056177166"
     },
     "user_tz": 300
    },
    "id": "wqKDANnOMiLw"
   },
   "outputs": [],
   "source": [
    "#dividir los campo que generan error en la correlacion\n",
    "datos[[\"CODSERVICIO\", \"DESCSERVICIO\"]] = datos[\"SERVICIO\"].str.split(\"-\", expand=True)\n",
    "datos[[\"CODOBSERVACIONACTUAL\", \"DESCOBSERVACIONACTUAL\"]] = datos[\"OBSERVACION_ACTUAL\"].str.split(\"-\", expand=True)\n",
    "datos[[\"CODFUNCIONANALISIS\", \"DESCFUNCIONANALISIS\"]] = datos[\"FUNCION_ANALISIS\"].str.split(\"-\", expand=True)\n",
    "datos[[\"CODCALIFICACION\", \"DESCCALIFICACION\"]] = datos[\"CALIFICACION\"].str.split(\"-\", n=1, expand=True)\n"
   ]
  },
  {
   "cell_type": "code",
   "execution_count": 14,
   "metadata": {
    "colab": {
     "base_uri": "https://localhost:8080/",
     "height": 417
    },
    "executionInfo": {
     "elapsed": 639,
     "status": "ok",
     "timestamp": 1746312446888,
     "user": {
      "displayName": "Jhon Fredy Ossa Patiño",
      "userId": "16604624739056177166"
     },
     "user_tz": 300
    },
    "id": "iHmJDyJQK6cL",
    "outputId": "77f6ac60-ebce-46c6-d16a-a0f54dccc0ac"
   },
   "outputs": [
    {
     "data": {
      "text/html": [
       "<div>\n",
       "<style scoped>\n",
       "    .dataframe tbody tr th:only-of-type {\n",
       "        vertical-align: middle;\n",
       "    }\n",
       "\n",
       "    .dataframe tbody tr th {\n",
       "        vertical-align: top;\n",
       "    }\n",
       "\n",
       "    .dataframe thead th {\n",
       "        text-align: right;\n",
       "    }\n",
       "</style>\n",
       "<table border=\"1\" class=\"dataframe\">\n",
       "  <thead>\n",
       "    <tr style=\"text-align: right;\">\n",
       "      <th></th>\n",
       "      <th>RESPUESTA</th>\n",
       "      <th>SERVICIO</th>\n",
       "      <th>OBSERVACION_ACTUAL</th>\n",
       "      <th>CONSUMO_CRITICADO</th>\n",
       "      <th>FUNCION_ANALISIS</th>\n",
       "      <th>CALIFICACION</th>\n",
       "      <th>CODSERVICIO</th>\n",
       "      <th>DESCSERVICIO</th>\n",
       "      <th>CODOBSERVACIONACTUAL</th>\n",
       "      <th>DESCOBSERVACIONACTUAL</th>\n",
       "      <th>CODFUNCIONANALISIS</th>\n",
       "      <th>DESCFUNCIONANALISIS</th>\n",
       "      <th>CODCALIFICACION</th>\n",
       "      <th>DESCCALIFICACION</th>\n",
       "    </tr>\n",
       "  </thead>\n",
       "  <tbody>\n",
       "    <tr>\n",
       "      <th>0</th>\n",
       "      <td>1</td>\n",
       "      <td>101-AGUA POTABLE</td>\n",
       "      <td>31-MEDIDOR CAMBIADO</td>\n",
       "      <td>81.58</td>\n",
       "      <td>PEOBTECOPP - Obtener Consumo Promedio Individu...</td>\n",
       "      <td>2-ENVÍA A CRÍTICA</td>\n",
       "      <td>101</td>\n",
       "      <td>AGUA POTABLE</td>\n",
       "      <td>31</td>\n",
       "      <td>MEDIDOR CAMBIADO</td>\n",
       "      <td>PEOBTECOPP</td>\n",
       "      <td>Obtener Consumo Promedio Individual últimos m...</td>\n",
       "      <td>2</td>\n",
       "      <td>ENVÍA A CRÍTICA</td>\n",
       "    </tr>\n",
       "    <tr>\n",
       "      <th>1</th>\n",
       "      <td>1</td>\n",
       "      <td>101-AGUA POTABLE</td>\n",
       "      <td>39-VER ALFANUMERICA</td>\n",
       "      <td>408.00</td>\n",
       "      <td>CALCCOLE - Calcular Consumo por Lecturas</td>\n",
       "      <td>5080-MUY ALTO (&gt;500%)</td>\n",
       "      <td>101</td>\n",
       "      <td>AGUA POTABLE</td>\n",
       "      <td>39</td>\n",
       "      <td>VER ALFANUMERICA</td>\n",
       "      <td>CALCCOLE</td>\n",
       "      <td>Calcular Consumo por Lecturas</td>\n",
       "      <td>5080</td>\n",
       "      <td>MUY ALTO (&gt;500%)</td>\n",
       "    </tr>\n",
       "    <tr>\n",
       "      <th>2</th>\n",
       "      <td>1</td>\n",
       "      <td>101-AGUA POTABLE</td>\n",
       "      <td>35-NO HAY JUSTIFICACION</td>\n",
       "      <td>-3.00</td>\n",
       "      <td>PECALCCOLA - Calcular Consumo por Lectura Ante...</td>\n",
       "      <td>5036-BAJO ACUEDUCTO (&lt;-65%)</td>\n",
       "      <td>101</td>\n",
       "      <td>AGUA POTABLE</td>\n",
       "      <td>35</td>\n",
       "      <td>NO HAY JUSTIFICACION</td>\n",
       "      <td>PECALCCOLA</td>\n",
       "      <td>Calcular Consumo por Lectura Anterior</td>\n",
       "      <td>5036</td>\n",
       "      <td>BAJO ACUEDUCTO (&lt;-65%)</td>\n",
       "    </tr>\n",
       "    <tr>\n",
       "      <th>3</th>\n",
       "      <td>1</td>\n",
       "      <td>101-AGUA POTABLE</td>\n",
       "      <td>35-NO HAY JUSTIFICACION</td>\n",
       "      <td>-377.00</td>\n",
       "      <td>PECALCCOLA - Calcular Consumo por Lectura Ante...</td>\n",
       "      <td>5036-BAJO ACUEDUCTO (&lt;-65%)</td>\n",
       "      <td>101</td>\n",
       "      <td>AGUA POTABLE</td>\n",
       "      <td>35</td>\n",
       "      <td>NO HAY JUSTIFICACION</td>\n",
       "      <td>PECALCCOLA</td>\n",
       "      <td>Calcular Consumo por Lectura Anterior</td>\n",
       "      <td>5036</td>\n",
       "      <td>BAJO ACUEDUCTO (&lt;-65%)</td>\n",
       "    </tr>\n",
       "    <tr>\n",
       "      <th>4</th>\n",
       "      <td>0</td>\n",
       "      <td>101-AGUA POTABLE</td>\n",
       "      <td>0-SIN CAUSA NI OBSERVACIÓN</td>\n",
       "      <td>11.00</td>\n",
       "      <td>PECALCCOLA - Calcular Consumo por Lectura Ante...</td>\n",
       "      <td>2-ENVÍA A CRÍTICA</td>\n",
       "      <td>101</td>\n",
       "      <td>AGUA POTABLE</td>\n",
       "      <td>0</td>\n",
       "      <td>SIN CAUSA NI OBSERVACIÓN</td>\n",
       "      <td>PECALCCOLA</td>\n",
       "      <td>Calcular Consumo por Lectura Anterior</td>\n",
       "      <td>2</td>\n",
       "      <td>ENVÍA A CRÍTICA</td>\n",
       "    </tr>\n",
       "  </tbody>\n",
       "</table>\n",
       "</div>"
      ],
      "text/plain": [
       "   RESPUESTA          SERVICIO          OBSERVACION_ACTUAL  CONSUMO_CRITICADO  \\\n",
       "0          1  101-AGUA POTABLE         31-MEDIDOR CAMBIADO              81.58   \n",
       "1          1  101-AGUA POTABLE         39-VER ALFANUMERICA             408.00   \n",
       "2          1  101-AGUA POTABLE     35-NO HAY JUSTIFICACION              -3.00   \n",
       "3          1  101-AGUA POTABLE     35-NO HAY JUSTIFICACION            -377.00   \n",
       "4          0  101-AGUA POTABLE  0-SIN CAUSA NI OBSERVACIÓN              11.00   \n",
       "\n",
       "                                    FUNCION_ANALISIS  \\\n",
       "0  PEOBTECOPP - Obtener Consumo Promedio Individu...   \n",
       "1           CALCCOLE - Calcular Consumo por Lecturas   \n",
       "2  PECALCCOLA - Calcular Consumo por Lectura Ante...   \n",
       "3  PECALCCOLA - Calcular Consumo por Lectura Ante...   \n",
       "4  PECALCCOLA - Calcular Consumo por Lectura Ante...   \n",
       "\n",
       "                  CALIFICACION CODSERVICIO  DESCSERVICIO CODOBSERVACIONACTUAL  \\\n",
       "0            2-ENVÍA A CRÍTICA         101  AGUA POTABLE                   31   \n",
       "1        5080-MUY ALTO (>500%)         101  AGUA POTABLE                   39   \n",
       "2  5036-BAJO ACUEDUCTO (<-65%)         101  AGUA POTABLE                   35   \n",
       "3  5036-BAJO ACUEDUCTO (<-65%)         101  AGUA POTABLE                   35   \n",
       "4            2-ENVÍA A CRÍTICA         101  AGUA POTABLE                    0   \n",
       "\n",
       "      DESCOBSERVACIONACTUAL CODFUNCIONANALISIS  \\\n",
       "0          MEDIDOR CAMBIADO        PEOBTECOPP    \n",
       "1          VER ALFANUMERICA          CALCCOLE    \n",
       "2      NO HAY JUSTIFICACION        PECALCCOLA    \n",
       "3      NO HAY JUSTIFICACION        PECALCCOLA    \n",
       "4  SIN CAUSA NI OBSERVACIÓN        PECALCCOLA    \n",
       "\n",
       "                                 DESCFUNCIONANALISIS CODCALIFICACION  \\\n",
       "0   Obtener Consumo Promedio Individual últimos m...               2   \n",
       "1                      Calcular Consumo por Lecturas            5080   \n",
       "2              Calcular Consumo por Lectura Anterior            5036   \n",
       "3              Calcular Consumo por Lectura Anterior            5036   \n",
       "4              Calcular Consumo por Lectura Anterior               2   \n",
       "\n",
       "         DESCCALIFICACION  \n",
       "0         ENVÍA A CRÍTICA  \n",
       "1        MUY ALTO (>500%)  \n",
       "2  BAJO ACUEDUCTO (<-65%)  \n",
       "3  BAJO ACUEDUCTO (<-65%)  \n",
       "4         ENVÍA A CRÍTICA  "
      ]
     },
     "execution_count": 14,
     "metadata": {},
     "output_type": "execute_result"
    }
   ],
   "source": [
    "datos.head()"
   ]
  },
  {
   "cell_type": "code",
   "execution_count": 15,
   "metadata": {
    "colab": {
     "base_uri": "https://localhost:8080/",
     "height": 523
    },
    "executionInfo": {
     "elapsed": 94,
     "status": "ok",
     "timestamp": 1746312449319,
     "user": {
      "displayName": "Jhon Fredy Ossa Patiño",
      "userId": "16604624739056177166"
     },
     "user_tz": 300
    },
    "id": "mEL1trhDURoi",
    "outputId": "919e95f5-6c73-4315-bf74-4c08a830dc3e"
   },
   "outputs": [
    {
     "data": {
      "text/plain": [
       "RESPUESTA                0\n",
       "SERVICIO                 0\n",
       "OBSERVACION_ACTUAL       0\n",
       "CONSUMO_CRITICADO        0\n",
       "FUNCION_ANALISIS         0\n",
       "CALIFICACION             0\n",
       "CODSERVICIO              0\n",
       "DESCSERVICIO             0\n",
       "CODOBSERVACIONACTUAL     0\n",
       "DESCOBSERVACIONACTUAL    0\n",
       "CODFUNCIONANALISIS       0\n",
       "DESCFUNCIONANALISIS      0\n",
       "CODCALIFICACION          0\n",
       "DESCCALIFICACION         0\n",
       "dtype: int64"
      ]
     },
     "execution_count": 15,
     "metadata": {},
     "output_type": "execute_result"
    }
   ],
   "source": [
    "#Validar que no queden nulos\n",
    "datos.isnull().sum()"
   ]
  },
  {
   "cell_type": "code",
   "execution_count": 29,
   "metadata": {
    "executionInfo": {
     "elapsed": 26,
     "status": "ok",
     "timestamp": 1746312451525,
     "user": {
      "displayName": "Jhon Fredy Ossa Patiño",
      "userId": "16604624739056177166"
     },
     "user_tz": 300
    },
    "id": "ANb6SRfPO17W"
   },
   "outputs": [],
   "source": [
    "correlacion = datos[[\"RESPUESTA\",\"CONSUMO_CRITICADO\"]]"
   ]
  },
  {
   "cell_type": "code",
   "execution_count": 30,
   "metadata": {
    "colab": {
     "base_uri": "https://localhost:8080/",
     "height": 143
    },
    "executionInfo": {
     "elapsed": 53,
     "status": "ok",
     "timestamp": 1746312456824,
     "user": {
      "displayName": "Jhon Fredy Ossa Patiño",
      "userId": "16604624739056177166"
     },
     "user_tz": 300
    },
    "id": "635n_AIFLSm7",
    "outputId": "b350ec34-5cd0-4dc5-e382-5e5aba49763d"
   },
   "outputs": [
    {
     "data": {
      "text/html": [
       "<div>\n",
       "<style scoped>\n",
       "    .dataframe tbody tr th:only-of-type {\n",
       "        vertical-align: middle;\n",
       "    }\n",
       "\n",
       "    .dataframe tbody tr th {\n",
       "        vertical-align: top;\n",
       "    }\n",
       "\n",
       "    .dataframe thead th {\n",
       "        text-align: right;\n",
       "    }\n",
       "</style>\n",
       "<table border=\"1\" class=\"dataframe\">\n",
       "  <thead>\n",
       "    <tr style=\"text-align: right;\">\n",
       "      <th></th>\n",
       "      <th>RESPUESTA</th>\n",
       "      <th>CONSUMO_CRITICADO</th>\n",
       "    </tr>\n",
       "  </thead>\n",
       "  <tbody>\n",
       "    <tr>\n",
       "      <th>RESPUESTA</th>\n",
       "      <td>1.000000</td>\n",
       "      <td>0.004604</td>\n",
       "    </tr>\n",
       "    <tr>\n",
       "      <th>CONSUMO_CRITICADO</th>\n",
       "      <td>0.004604</td>\n",
       "      <td>1.000000</td>\n",
       "    </tr>\n",
       "  </tbody>\n",
       "</table>\n",
       "</div>"
      ],
      "text/plain": [
       "                   RESPUESTA  CONSUMO_CRITICADO\n",
       "RESPUESTA           1.000000           0.004604\n",
       "CONSUMO_CRITICADO   0.004604           1.000000"
      ]
     },
     "execution_count": 30,
     "metadata": {},
     "output_type": "execute_result"
    }
   ],
   "source": [
    "#Correlacion de los datos\n",
    "correlacion.corr()"
   ]
  },
  {
   "cell_type": "code",
   "execution_count": 27,
   "metadata": {},
   "outputs": [
    {
     "name": "stdout",
     "output_type": "stream",
     "text": [
      "CODCALIFICACION\n",
      "5080    32657\n",
      "2       18835\n",
      "5036    18032\n",
      "220      8114\n",
      "5022     4968\n",
      "5084     2902\n",
      "5031     2621\n",
      "5038     2145\n",
      "5035     1893\n",
      "5020      885\n",
      "48        790\n",
      "5024      582\n",
      "5034      488\n",
      "47        365\n",
      "5019      265\n",
      "5058      215\n",
      "5085      157\n",
      "5017      120\n",
      "5018       73\n",
      "43         49\n",
      "46         47\n",
      "20         47\n",
      "5042       29\n",
      "5044       25\n",
      "41         10\n",
      "40         10\n",
      "45          8\n",
      "42          6\n",
      "39          3\n",
      "5008        2\n",
      "5010        1\n",
      "5007        1\n",
      "Name: count, dtype: int64\n"
     ]
    }
   ],
   "source": [
    "t =datos[\"CODCALIFICACION\"].value_counts()\n",
    "print(t)"
   ]
  },
  {
   "cell_type": "code",
   "execution_count": 31,
   "metadata": {
    "id": "1d6ZqHPwP3V9"
   },
   "outputs": [
    {
     "ename": "MemoryError",
     "evalue": "Unable to allocate 716. GiB for an array with shape (96050610272,) and data type float64",
     "output_type": "error",
     "traceback": [
      "\u001b[1;31m---------------------------------------------------------------------------\u001b[0m",
      "\u001b[1;31mMemoryError\u001b[0m                               Traceback (most recent call last)",
      "Cell \u001b[1;32mIn[31], line 1\u001b[0m\n\u001b[1;32m----> 1\u001b[0m \u001b[43msns\u001b[49m\u001b[38;5;241;43m.\u001b[39;49m\u001b[43mpairplot\u001b[49m\u001b[43m(\u001b[49m\u001b[43mcorrelacion\u001b[49m\u001b[43m)\u001b[49m\n",
      "File \u001b[1;32mc:\\Users\\eaop0\\AppData\\Local\\Programs\\Python\\Python313\\Lib\\site-packages\\seaborn\\axisgrid.py:2149\u001b[0m, in \u001b[0;36mpairplot\u001b[1;34m(data, hue, hue_order, palette, vars, x_vars, y_vars, kind, diag_kind, markers, height, aspect, corner, dropna, plot_kws, diag_kws, grid_kws, size)\u001b[0m\n\u001b[0;32m   2147\u001b[0m diag_kws\u001b[38;5;241m.\u001b[39msetdefault(\u001b[38;5;124m\"\u001b[39m\u001b[38;5;124mlegend\u001b[39m\u001b[38;5;124m\"\u001b[39m, \u001b[38;5;28;01mFalse\u001b[39;00m)\n\u001b[0;32m   2148\u001b[0m \u001b[38;5;28;01mif\u001b[39;00m diag_kind \u001b[38;5;241m==\u001b[39m \u001b[38;5;124m\"\u001b[39m\u001b[38;5;124mhist\u001b[39m\u001b[38;5;124m\"\u001b[39m:\n\u001b[1;32m-> 2149\u001b[0m     \u001b[43mgrid\u001b[49m\u001b[38;5;241;43m.\u001b[39;49m\u001b[43mmap_diag\u001b[49m\u001b[43m(\u001b[49m\u001b[43mhistplot\u001b[49m\u001b[43m,\u001b[49m\u001b[43m \u001b[49m\u001b[38;5;241;43m*\u001b[39;49m\u001b[38;5;241;43m*\u001b[39;49m\u001b[43mdiag_kws\u001b[49m\u001b[43m)\u001b[49m\n\u001b[0;32m   2150\u001b[0m \u001b[38;5;28;01melif\u001b[39;00m diag_kind \u001b[38;5;241m==\u001b[39m \u001b[38;5;124m\"\u001b[39m\u001b[38;5;124mkde\u001b[39m\u001b[38;5;124m\"\u001b[39m:\n\u001b[0;32m   2151\u001b[0m     diag_kws\u001b[38;5;241m.\u001b[39msetdefault(\u001b[38;5;124m\"\u001b[39m\u001b[38;5;124mfill\u001b[39m\u001b[38;5;124m\"\u001b[39m, \u001b[38;5;28;01mTrue\u001b[39;00m)\n",
      "File \u001b[1;32mc:\\Users\\eaop0\\AppData\\Local\\Programs\\Python\\Python313\\Lib\\site-packages\\seaborn\\axisgrid.py:1513\u001b[0m, in \u001b[0;36mPairGrid.map_diag\u001b[1;34m(self, func, **kwargs)\u001b[0m\n\u001b[0;32m   1511\u001b[0m     plot_kwargs\u001b[38;5;241m.\u001b[39msetdefault(\u001b[38;5;124m\"\u001b[39m\u001b[38;5;124mhue_order\u001b[39m\u001b[38;5;124m\"\u001b[39m, \u001b[38;5;28mself\u001b[39m\u001b[38;5;241m.\u001b[39m_hue_order)\n\u001b[0;32m   1512\u001b[0m     plot_kwargs\u001b[38;5;241m.\u001b[39msetdefault(\u001b[38;5;124m\"\u001b[39m\u001b[38;5;124mpalette\u001b[39m\u001b[38;5;124m\"\u001b[39m, \u001b[38;5;28mself\u001b[39m\u001b[38;5;241m.\u001b[39m_orig_palette)\n\u001b[1;32m-> 1513\u001b[0m     \u001b[43mfunc\u001b[49m\u001b[43m(\u001b[49m\u001b[43mx\u001b[49m\u001b[38;5;241;43m=\u001b[39;49m\u001b[43mvector\u001b[49m\u001b[43m,\u001b[49m\u001b[43m \u001b[49m\u001b[38;5;241;43m*\u001b[39;49m\u001b[38;5;241;43m*\u001b[39;49m\u001b[43mplot_kwargs\u001b[49m\u001b[43m)\u001b[49m\n\u001b[0;32m   1514\u001b[0m     ax\u001b[38;5;241m.\u001b[39mlegend_ \u001b[38;5;241m=\u001b[39m \u001b[38;5;28;01mNone\u001b[39;00m\n\u001b[0;32m   1516\u001b[0m \u001b[38;5;28mself\u001b[39m\u001b[38;5;241m.\u001b[39m_add_axis_labels()\n",
      "File \u001b[1;32mc:\\Users\\eaop0\\AppData\\Local\\Programs\\Python\\Python313\\Lib\\site-packages\\seaborn\\distributions.py:1416\u001b[0m, in \u001b[0;36mhistplot\u001b[1;34m(data, x, y, hue, weights, stat, bins, binwidth, binrange, discrete, cumulative, common_bins, common_norm, multiple, element, fill, shrink, kde, kde_kws, line_kws, thresh, pthresh, pmax, cbar, cbar_ax, cbar_kws, palette, hue_order, hue_norm, color, log_scale, legend, ax, **kwargs)\u001b[0m\n\u001b[0;32m   1405\u001b[0m estimate_kws \u001b[38;5;241m=\u001b[39m \u001b[38;5;28mdict\u001b[39m(\n\u001b[0;32m   1406\u001b[0m     stat\u001b[38;5;241m=\u001b[39mstat,\n\u001b[0;32m   1407\u001b[0m     bins\u001b[38;5;241m=\u001b[39mbins,\n\u001b[1;32m   (...)\u001b[0m\n\u001b[0;32m   1411\u001b[0m     cumulative\u001b[38;5;241m=\u001b[39mcumulative,\n\u001b[0;32m   1412\u001b[0m )\n\u001b[0;32m   1414\u001b[0m \u001b[38;5;28;01mif\u001b[39;00m p\u001b[38;5;241m.\u001b[39munivariate:\n\u001b[1;32m-> 1416\u001b[0m     \u001b[43mp\u001b[49m\u001b[38;5;241;43m.\u001b[39;49m\u001b[43mplot_univariate_histogram\u001b[49m\u001b[43m(\u001b[49m\n\u001b[0;32m   1417\u001b[0m \u001b[43m        \u001b[49m\u001b[43mmultiple\u001b[49m\u001b[38;5;241;43m=\u001b[39;49m\u001b[43mmultiple\u001b[49m\u001b[43m,\u001b[49m\n\u001b[0;32m   1418\u001b[0m \u001b[43m        \u001b[49m\u001b[43melement\u001b[49m\u001b[38;5;241;43m=\u001b[39;49m\u001b[43melement\u001b[49m\u001b[43m,\u001b[49m\n\u001b[0;32m   1419\u001b[0m \u001b[43m        \u001b[49m\u001b[43mfill\u001b[49m\u001b[38;5;241;43m=\u001b[39;49m\u001b[43mfill\u001b[49m\u001b[43m,\u001b[49m\n\u001b[0;32m   1420\u001b[0m \u001b[43m        \u001b[49m\u001b[43mshrink\u001b[49m\u001b[38;5;241;43m=\u001b[39;49m\u001b[43mshrink\u001b[49m\u001b[43m,\u001b[49m\n\u001b[0;32m   1421\u001b[0m \u001b[43m        \u001b[49m\u001b[43mcommon_norm\u001b[49m\u001b[38;5;241;43m=\u001b[39;49m\u001b[43mcommon_norm\u001b[49m\u001b[43m,\u001b[49m\n\u001b[0;32m   1422\u001b[0m \u001b[43m        \u001b[49m\u001b[43mcommon_bins\u001b[49m\u001b[38;5;241;43m=\u001b[39;49m\u001b[43mcommon_bins\u001b[49m\u001b[43m,\u001b[49m\n\u001b[0;32m   1423\u001b[0m \u001b[43m        \u001b[49m\u001b[43mkde\u001b[49m\u001b[38;5;241;43m=\u001b[39;49m\u001b[43mkde\u001b[49m\u001b[43m,\u001b[49m\n\u001b[0;32m   1424\u001b[0m \u001b[43m        \u001b[49m\u001b[43mkde_kws\u001b[49m\u001b[38;5;241;43m=\u001b[39;49m\u001b[43mkde_kws\u001b[49m\u001b[43m,\u001b[49m\n\u001b[0;32m   1425\u001b[0m \u001b[43m        \u001b[49m\u001b[43mcolor\u001b[49m\u001b[38;5;241;43m=\u001b[39;49m\u001b[43mcolor\u001b[49m\u001b[43m,\u001b[49m\n\u001b[0;32m   1426\u001b[0m \u001b[43m        \u001b[49m\u001b[43mlegend\u001b[49m\u001b[38;5;241;43m=\u001b[39;49m\u001b[43mlegend\u001b[49m\u001b[43m,\u001b[49m\n\u001b[0;32m   1427\u001b[0m \u001b[43m        \u001b[49m\u001b[43mestimate_kws\u001b[49m\u001b[38;5;241;43m=\u001b[39;49m\u001b[43mestimate_kws\u001b[49m\u001b[43m,\u001b[49m\n\u001b[0;32m   1428\u001b[0m \u001b[43m        \u001b[49m\u001b[43mline_kws\u001b[49m\u001b[38;5;241;43m=\u001b[39;49m\u001b[43mline_kws\u001b[49m\u001b[43m,\u001b[49m\n\u001b[0;32m   1429\u001b[0m \u001b[43m        \u001b[49m\u001b[38;5;241;43m*\u001b[39;49m\u001b[38;5;241;43m*\u001b[39;49m\u001b[43mkwargs\u001b[49m\u001b[43m,\u001b[49m\n\u001b[0;32m   1430\u001b[0m \u001b[43m    \u001b[49m\u001b[43m)\u001b[49m\n\u001b[0;32m   1432\u001b[0m \u001b[38;5;28;01melse\u001b[39;00m:\n\u001b[0;32m   1434\u001b[0m     p\u001b[38;5;241m.\u001b[39mplot_bivariate_histogram(\n\u001b[0;32m   1435\u001b[0m         common_bins\u001b[38;5;241m=\u001b[39mcommon_bins,\n\u001b[0;32m   1436\u001b[0m         common_norm\u001b[38;5;241m=\u001b[39mcommon_norm,\n\u001b[1;32m   (...)\u001b[0m\n\u001b[0;32m   1446\u001b[0m         \u001b[38;5;241m*\u001b[39m\u001b[38;5;241m*\u001b[39mkwargs,\n\u001b[0;32m   1447\u001b[0m     )\n",
      "File \u001b[1;32mc:\\Users\\eaop0\\AppData\\Local\\Programs\\Python\\Python313\\Lib\\site-packages\\seaborn\\distributions.py:470\u001b[0m, in \u001b[0;36m_DistributionPlotter.plot_univariate_histogram\u001b[1;34m(self, multiple, element, fill, common_norm, common_bins, shrink, kde, kde_kws, color, legend, line_kws, estimate_kws, **plot_kws)\u001b[0m\n\u001b[0;32m    468\u001b[0m \u001b[38;5;66;03m# Do the histogram computation\u001b[39;00m\n\u001b[0;32m    469\u001b[0m \u001b[38;5;28;01mif\u001b[39;00m \u001b[38;5;129;01mnot\u001b[39;00m (multiple_histograms \u001b[38;5;129;01mand\u001b[39;00m common_bins):\n\u001b[1;32m--> 470\u001b[0m     bin_kws \u001b[38;5;241m=\u001b[39m \u001b[43mestimator\u001b[49m\u001b[38;5;241;43m.\u001b[39;49m\u001b[43m_define_bin_params\u001b[49m\u001b[43m(\u001b[49m\u001b[43msub_data\u001b[49m\u001b[43m,\u001b[49m\u001b[43m \u001b[49m\u001b[43morient\u001b[49m\u001b[43m,\u001b[49m\u001b[43m \u001b[49m\u001b[38;5;28;43;01mNone\u001b[39;49;00m\u001b[43m)\u001b[49m\n\u001b[0;32m    471\u001b[0m res \u001b[38;5;241m=\u001b[39m estimator\u001b[38;5;241m.\u001b[39m_normalize(estimator\u001b[38;5;241m.\u001b[39m_eval(sub_data, orient, bin_kws))\n\u001b[0;32m    472\u001b[0m heights \u001b[38;5;241m=\u001b[39m res[estimator\u001b[38;5;241m.\u001b[39mstat]\u001b[38;5;241m.\u001b[39mto_numpy()\n",
      "File \u001b[1;32mc:\\Users\\eaop0\\AppData\\Local\\Programs\\Python\\Python313\\Lib\\site-packages\\seaborn\\_stats\\counting.py:152\u001b[0m, in \u001b[0;36mHist._define_bin_params\u001b[1;34m(self, data, orient, scale_type)\u001b[0m\n\u001b[0;32m    148\u001b[0m \u001b[38;5;66;03m# TODO We'll want this for ordinal / discrete scales too\u001b[39;00m\n\u001b[0;32m    149\u001b[0m \u001b[38;5;66;03m# (Do we need discrete as a parameter or just infer from scale?)\u001b[39;00m\n\u001b[0;32m    150\u001b[0m discrete \u001b[38;5;241m=\u001b[39m \u001b[38;5;28mself\u001b[39m\u001b[38;5;241m.\u001b[39mdiscrete \u001b[38;5;129;01mor\u001b[39;00m scale_type \u001b[38;5;241m==\u001b[39m \u001b[38;5;124m\"\u001b[39m\u001b[38;5;124mnominal\u001b[39m\u001b[38;5;124m\"\u001b[39m\n\u001b[1;32m--> 152\u001b[0m bin_edges \u001b[38;5;241m=\u001b[39m \u001b[38;5;28;43mself\u001b[39;49m\u001b[38;5;241;43m.\u001b[39;49m\u001b[43m_define_bin_edges\u001b[49m\u001b[43m(\u001b[49m\n\u001b[0;32m    153\u001b[0m \u001b[43m    \u001b[49m\u001b[43mvals\u001b[49m\u001b[43m,\u001b[49m\u001b[43m \u001b[49m\u001b[43mweights\u001b[49m\u001b[43m,\u001b[49m\u001b[43m \u001b[49m\u001b[38;5;28;43mself\u001b[39;49m\u001b[38;5;241;43m.\u001b[39;49m\u001b[43mbins\u001b[49m\u001b[43m,\u001b[49m\u001b[43m \u001b[49m\u001b[38;5;28;43mself\u001b[39;49m\u001b[38;5;241;43m.\u001b[39;49m\u001b[43mbinwidth\u001b[49m\u001b[43m,\u001b[49m\u001b[43m \u001b[49m\u001b[38;5;28;43mself\u001b[39;49m\u001b[38;5;241;43m.\u001b[39;49m\u001b[43mbinrange\u001b[49m\u001b[43m,\u001b[49m\u001b[43m \u001b[49m\u001b[43mdiscrete\u001b[49m\u001b[43m,\u001b[49m\n\u001b[0;32m    154\u001b[0m \u001b[43m\u001b[49m\u001b[43m)\u001b[49m\n\u001b[0;32m    156\u001b[0m \u001b[38;5;28;01mif\u001b[39;00m \u001b[38;5;28misinstance\u001b[39m(\u001b[38;5;28mself\u001b[39m\u001b[38;5;241m.\u001b[39mbins, (\u001b[38;5;28mstr\u001b[39m, \u001b[38;5;28mint\u001b[39m)):\n\u001b[0;32m    157\u001b[0m     n_bins \u001b[38;5;241m=\u001b[39m \u001b[38;5;28mlen\u001b[39m(bin_edges) \u001b[38;5;241m-\u001b[39m \u001b[38;5;241m1\u001b[39m\n",
      "File \u001b[1;32mc:\\Users\\eaop0\\AppData\\Local\\Programs\\Python\\Python313\\Lib\\site-packages\\seaborn\\_stats\\counting.py:137\u001b[0m, in \u001b[0;36mHist._define_bin_edges\u001b[1;34m(self, vals, weight, bins, binwidth, binrange, discrete)\u001b[0m\n\u001b[0;32m    135\u001b[0m     \u001b[38;5;28;01mif\u001b[39;00m binwidth \u001b[38;5;129;01mis\u001b[39;00m \u001b[38;5;129;01mnot\u001b[39;00m \u001b[38;5;28;01mNone\u001b[39;00m:\n\u001b[0;32m    136\u001b[0m         bins \u001b[38;5;241m=\u001b[39m \u001b[38;5;28mint\u001b[39m(\u001b[38;5;28mround\u001b[39m((stop \u001b[38;5;241m-\u001b[39m start) \u001b[38;5;241m/\u001b[39m binwidth))\n\u001b[1;32m--> 137\u001b[0m     bin_edges \u001b[38;5;241m=\u001b[39m \u001b[43mnp\u001b[49m\u001b[38;5;241;43m.\u001b[39;49m\u001b[43mhistogram_bin_edges\u001b[49m\u001b[43m(\u001b[49m\u001b[43mvals\u001b[49m\u001b[43m,\u001b[49m\u001b[43m \u001b[49m\u001b[43mbins\u001b[49m\u001b[43m,\u001b[49m\u001b[43m \u001b[49m\u001b[43mbinrange\u001b[49m\u001b[43m,\u001b[49m\u001b[43m \u001b[49m\u001b[43mweight\u001b[49m\u001b[43m)\u001b[49m\n\u001b[0;32m    139\u001b[0m \u001b[38;5;66;03m# TODO warning or cap on too many bins?\u001b[39;00m\n\u001b[0;32m    141\u001b[0m \u001b[38;5;28;01mreturn\u001b[39;00m bin_edges\n",
      "File \u001b[1;32mc:\\Users\\eaop0\\AppData\\Local\\Programs\\Python\\Python313\\Lib\\site-packages\\numpy\\lib\\_histograms_impl.py:680\u001b[0m, in \u001b[0;36mhistogram_bin_edges\u001b[1;34m(a, bins, range, weights)\u001b[0m\n\u001b[0;32m    479\u001b[0m \u001b[38;5;250m\u001b[39m\u001b[38;5;124mr\u001b[39m\u001b[38;5;124;03m\"\"\"\u001b[39;00m\n\u001b[0;32m    480\u001b[0m \u001b[38;5;124;03mFunction to calculate only the edges of the bins used by the `histogram`\u001b[39;00m\n\u001b[0;32m    481\u001b[0m \u001b[38;5;124;03mfunction.\u001b[39;00m\n\u001b[1;32m   (...)\u001b[0m\n\u001b[0;32m    677\u001b[0m \n\u001b[0;32m    678\u001b[0m \u001b[38;5;124;03m\"\"\"\u001b[39;00m\n\u001b[0;32m    679\u001b[0m a, weights \u001b[38;5;241m=\u001b[39m _ravel_and_check_weights(a, weights)\n\u001b[1;32m--> 680\u001b[0m bin_edges, _ \u001b[38;5;241m=\u001b[39m \u001b[43m_get_bin_edges\u001b[49m\u001b[43m(\u001b[49m\u001b[43ma\u001b[49m\u001b[43m,\u001b[49m\u001b[43m \u001b[49m\u001b[43mbins\u001b[49m\u001b[43m,\u001b[49m\u001b[43m \u001b[49m\u001b[38;5;28;43mrange\u001b[39;49m\u001b[43m,\u001b[49m\u001b[43m \u001b[49m\u001b[43mweights\u001b[49m\u001b[43m)\u001b[49m\n\u001b[0;32m    681\u001b[0m \u001b[38;5;28;01mreturn\u001b[39;00m bin_edges\n",
      "File \u001b[1;32mc:\\Users\\eaop0\\AppData\\Local\\Programs\\Python\\Python313\\Lib\\site-packages\\numpy\\lib\\_histograms_impl.py:449\u001b[0m, in \u001b[0;36m_get_bin_edges\u001b[1;34m(a, bins, range, weights)\u001b[0m\n\u001b[0;32m    446\u001b[0m     bin_type \u001b[38;5;241m=\u001b[39m np\u001b[38;5;241m.\u001b[39mresult_type(bin_type, \u001b[38;5;28mfloat\u001b[39m)\n\u001b[0;32m    448\u001b[0m \u001b[38;5;66;03m# bin edges must be computed\u001b[39;00m\n\u001b[1;32m--> 449\u001b[0m bin_edges \u001b[38;5;241m=\u001b[39m \u001b[43mnp\u001b[49m\u001b[38;5;241;43m.\u001b[39;49m\u001b[43mlinspace\u001b[49m\u001b[43m(\u001b[49m\n\u001b[0;32m    450\u001b[0m \u001b[43m    \u001b[49m\u001b[43mfirst_edge\u001b[49m\u001b[43m,\u001b[49m\u001b[43m \u001b[49m\u001b[43mlast_edge\u001b[49m\u001b[43m,\u001b[49m\u001b[43m \u001b[49m\u001b[43mn_equal_bins\u001b[49m\u001b[43m \u001b[49m\u001b[38;5;241;43m+\u001b[39;49m\u001b[43m \u001b[49m\u001b[38;5;241;43m1\u001b[39;49m\u001b[43m,\u001b[49m\n\u001b[0;32m    451\u001b[0m \u001b[43m    \u001b[49m\u001b[43mendpoint\u001b[49m\u001b[38;5;241;43m=\u001b[39;49m\u001b[38;5;28;43;01mTrue\u001b[39;49;00m\u001b[43m,\u001b[49m\u001b[43m \u001b[49m\u001b[43mdtype\u001b[49m\u001b[38;5;241;43m=\u001b[39;49m\u001b[43mbin_type\u001b[49m\u001b[43m)\u001b[49m\n\u001b[0;32m    452\u001b[0m \u001b[38;5;28;01mif\u001b[39;00m np\u001b[38;5;241m.\u001b[39many(bin_edges[:\u001b[38;5;241m-\u001b[39m\u001b[38;5;241m1\u001b[39m] \u001b[38;5;241m>\u001b[39m\u001b[38;5;241m=\u001b[39m bin_edges[\u001b[38;5;241m1\u001b[39m:]):\n\u001b[0;32m    453\u001b[0m     \u001b[38;5;28;01mraise\u001b[39;00m \u001b[38;5;167;01mValueError\u001b[39;00m(\n\u001b[0;32m    454\u001b[0m         \u001b[38;5;124mf\u001b[39m\u001b[38;5;124m'\u001b[39m\u001b[38;5;124mToo many bins for data range. Cannot create \u001b[39m\u001b[38;5;132;01m{\u001b[39;00mn_equal_bins\u001b[38;5;132;01m}\u001b[39;00m\u001b[38;5;124m \u001b[39m\u001b[38;5;124m'\u001b[39m\n\u001b[0;32m    455\u001b[0m         \u001b[38;5;124mf\u001b[39m\u001b[38;5;124m'\u001b[39m\u001b[38;5;124mfinite-sized bins.\u001b[39m\u001b[38;5;124m'\u001b[39m)\n",
      "File \u001b[1;32mc:\\Users\\eaop0\\AppData\\Local\\Programs\\Python\\Python313\\Lib\\site-packages\\numpy\\_core\\function_base.py:140\u001b[0m, in \u001b[0;36mlinspace\u001b[1;34m(start, stop, num, endpoint, retstep, dtype, axis, device)\u001b[0m\n\u001b[0;32m    138\u001b[0m \u001b[38;5;66;03m# Use `dtype=type(dt)` to enforce a floating point evaluation:\u001b[39;00m\n\u001b[0;32m    139\u001b[0m delta \u001b[38;5;241m=\u001b[39m np\u001b[38;5;241m.\u001b[39msubtract(stop, start, dtype\u001b[38;5;241m=\u001b[39m\u001b[38;5;28mtype\u001b[39m(dt))\n\u001b[1;32m--> 140\u001b[0m y \u001b[38;5;241m=\u001b[39m \u001b[43m_nx\u001b[49m\u001b[38;5;241;43m.\u001b[39;49m\u001b[43marange\u001b[49m\u001b[43m(\u001b[49m\n\u001b[0;32m    141\u001b[0m \u001b[43m    \u001b[49m\u001b[38;5;241;43m0\u001b[39;49m\u001b[43m,\u001b[49m\u001b[43m \u001b[49m\u001b[43mnum\u001b[49m\u001b[43m,\u001b[49m\u001b[43m \u001b[49m\u001b[43mdtype\u001b[49m\u001b[38;5;241;43m=\u001b[39;49m\u001b[43mdt\u001b[49m\u001b[43m,\u001b[49m\u001b[43m \u001b[49m\u001b[43mdevice\u001b[49m\u001b[38;5;241;43m=\u001b[39;49m\u001b[43mdevice\u001b[49m\n\u001b[0;32m    142\u001b[0m \u001b[43m\u001b[49m\u001b[43m)\u001b[49m\u001b[38;5;241m.\u001b[39mreshape((\u001b[38;5;241m-\u001b[39m\u001b[38;5;241m1\u001b[39m,) \u001b[38;5;241m+\u001b[39m (\u001b[38;5;241m1\u001b[39m,) \u001b[38;5;241m*\u001b[39m ndim(delta))\n\u001b[0;32m    144\u001b[0m \u001b[38;5;66;03m# In-place multiplication y *= delta/div is faster, but prevents\u001b[39;00m\n\u001b[0;32m    145\u001b[0m \u001b[38;5;66;03m# the multiplicant from overriding what class is produced, and thus\u001b[39;00m\n\u001b[0;32m    146\u001b[0m \u001b[38;5;66;03m# prevents, e.g. use of Quantities, see gh-7142. Hence, we multiply\u001b[39;00m\n\u001b[0;32m    147\u001b[0m \u001b[38;5;66;03m# in place only for standard scalar types.\u001b[39;00m\n\u001b[0;32m    148\u001b[0m \u001b[38;5;28;01mif\u001b[39;00m div \u001b[38;5;241m>\u001b[39m \u001b[38;5;241m0\u001b[39m:\n",
      "\u001b[1;31mMemoryError\u001b[0m: Unable to allocate 716. GiB for an array with shape (96050610272,) and data type float64"
     ]
    },
    {
     "data": {
      "image/png": "[encoded data removed]",
      "text/plain": [
       "<Figure size 500x500 with 6 Axes>"
      ]
     },
     "metadata": {},
     "output_type": "display_data"
    }
   ],
   "source": [
    "sns.pairplot(correlacion)"
   ]
  },
  {
   "cell_type": "code",
   "execution_count": 33,
   "metadata": {},
   "outputs": [
    {
     "data": {
      "text/html": [
       "<div>\n",
       "<style scoped>\n",
       "    .dataframe tbody tr th:only-of-type {\n",
       "        vertical-align: middle;\n",
       "    }\n",
       "\n",
       "    .dataframe tbody tr th {\n",
       "        vertical-align: top;\n",
       "    }\n",
       "\n",
       "    .dataframe thead th {\n",
       "        text-align: right;\n",
       "    }\n",
       "</style>\n",
       "<table border=\"1\" class=\"dataframe\">\n",
       "  <thead>\n",
       "    <tr style=\"text-align: right;\">\n",
       "      <th></th>\n",
       "      <th>RESPUESTA</th>\n",
       "      <th>SERVICIO</th>\n",
       "      <th>OBSERVACION_ACTUAL</th>\n",
       "      <th>CONSUMO_CRITICADO</th>\n",
       "      <th>FUNCION_ANALISIS</th>\n",
       "      <th>CALIFICACION</th>\n",
       "      <th>CODSERVICIO</th>\n",
       "      <th>DESCSERVICIO</th>\n",
       "      <th>CODOBSERVACIONACTUAL</th>\n",
       "      <th>DESCOBSERVACIONACTUAL</th>\n",
       "      <th>CODFUNCIONANALISIS</th>\n",
       "      <th>DESCFUNCIONANALISIS</th>\n",
       "      <th>CODCALIFICACION</th>\n",
       "      <th>DESCCALIFICACION</th>\n",
       "    </tr>\n",
       "  </thead>\n",
       "  <tbody>\n",
       "    <tr>\n",
       "      <th>0</th>\n",
       "      <td>1</td>\n",
       "      <td>101-AGUA POTABLE</td>\n",
       "      <td>31-MEDIDOR CAMBIADO</td>\n",
       "      <td>81.58</td>\n",
       "      <td>PEOBTECOPP - Obtener Consumo Promedio Individu...</td>\n",
       "      <td>2-ENVÍA A CRÍTICA</td>\n",
       "      <td>101</td>\n",
       "      <td>AGUA POTABLE</td>\n",
       "      <td>31</td>\n",
       "      <td>MEDIDOR CAMBIADO</td>\n",
       "      <td>PEOBTECOPP</td>\n",
       "      <td>Obtener Consumo Promedio Individual últimos m...</td>\n",
       "      <td>2</td>\n",
       "      <td>ENVÍA A CRÍTICA</td>\n",
       "    </tr>\n",
       "    <tr>\n",
       "      <th>1</th>\n",
       "      <td>1</td>\n",
       "      <td>101-AGUA POTABLE</td>\n",
       "      <td>39-VER ALFANUMERICA</td>\n",
       "      <td>408.00</td>\n",
       "      <td>CALCCOLE - Calcular Consumo por Lecturas</td>\n",
       "      <td>5080-MUY ALTO (&gt;500%)</td>\n",
       "      <td>101</td>\n",
       "      <td>AGUA POTABLE</td>\n",
       "      <td>39</td>\n",
       "      <td>VER ALFANUMERICA</td>\n",
       "      <td>CALCCOLE</td>\n",
       "      <td>Calcular Consumo por Lecturas</td>\n",
       "      <td>5080</td>\n",
       "      <td>MUY ALTO (&gt;500%)</td>\n",
       "    </tr>\n",
       "    <tr>\n",
       "      <th>2</th>\n",
       "      <td>1</td>\n",
       "      <td>101-AGUA POTABLE</td>\n",
       "      <td>35-NO HAY JUSTIFICACION</td>\n",
       "      <td>-3.00</td>\n",
       "      <td>PECALCCOLA - Calcular Consumo por Lectura Ante...</td>\n",
       "      <td>5036-BAJO ACUEDUCTO (&lt;-65%)</td>\n",
       "      <td>101</td>\n",
       "      <td>AGUA POTABLE</td>\n",
       "      <td>35</td>\n",
       "      <td>NO HAY JUSTIFICACION</td>\n",
       "      <td>PECALCCOLA</td>\n",
       "      <td>Calcular Consumo por Lectura Anterior</td>\n",
       "      <td>5036</td>\n",
       "      <td>BAJO ACUEDUCTO (&lt;-65%)</td>\n",
       "    </tr>\n",
       "    <tr>\n",
       "      <th>3</th>\n",
       "      <td>1</td>\n",
       "      <td>101-AGUA POTABLE</td>\n",
       "      <td>35-NO HAY JUSTIFICACION</td>\n",
       "      <td>-377.00</td>\n",
       "      <td>PECALCCOLA - Calcular Consumo por Lectura Ante...</td>\n",
       "      <td>5036-BAJO ACUEDUCTO (&lt;-65%)</td>\n",
       "      <td>101</td>\n",
       "      <td>AGUA POTABLE</td>\n",
       "      <td>35</td>\n",
       "      <td>NO HAY JUSTIFICACION</td>\n",
       "      <td>PECALCCOLA</td>\n",
       "      <td>Calcular Consumo por Lectura Anterior</td>\n",
       "      <td>5036</td>\n",
       "      <td>BAJO ACUEDUCTO (&lt;-65%)</td>\n",
       "    </tr>\n",
       "    <tr>\n",
       "      <th>4</th>\n",
       "      <td>0</td>\n",
       "      <td>101-AGUA POTABLE</td>\n",
       "      <td>0-SIN CAUSA NI OBSERVACIÓN</td>\n",
       "      <td>11.00</td>\n",
       "      <td>PECALCCOLA - Calcular Consumo por Lectura Ante...</td>\n",
       "      <td>2-ENVÍA A CRÍTICA</td>\n",
       "      <td>101</td>\n",
       "      <td>AGUA POTABLE</td>\n",
       "      <td>0</td>\n",
       "      <td>SIN CAUSA NI OBSERVACIÓN</td>\n",
       "      <td>PECALCCOLA</td>\n",
       "      <td>Calcular Consumo por Lectura Anterior</td>\n",
       "      <td>2</td>\n",
       "      <td>ENVÍA A CRÍTICA</td>\n",
       "    </tr>\n",
       "    <tr>\n",
       "      <th>5</th>\n",
       "      <td>1</td>\n",
       "      <td>101-AGUA POTABLE</td>\n",
       "      <td>35-NO HAY JUSTIFICACION</td>\n",
       "      <td>-15.00</td>\n",
       "      <td>PECALCCOLA - Calcular Consumo por Lectura Ante...</td>\n",
       "      <td>5036-BAJO ACUEDUCTO (&lt;-65%)</td>\n",
       "      <td>101</td>\n",
       "      <td>AGUA POTABLE</td>\n",
       "      <td>35</td>\n",
       "      <td>NO HAY JUSTIFICACION</td>\n",
       "      <td>PECALCCOLA</td>\n",
       "      <td>Calcular Consumo por Lectura Anterior</td>\n",
       "      <td>5036</td>\n",
       "      <td>BAJO ACUEDUCTO (&lt;-65%)</td>\n",
       "    </tr>\n",
       "    <tr>\n",
       "      <th>6</th>\n",
       "      <td>1</td>\n",
       "      <td>101-AGUA POTABLE</td>\n",
       "      <td>35-NO HAY JUSTIFICACION</td>\n",
       "      <td>-1.00</td>\n",
       "      <td>PECALCCOLA - Calcular Consumo por Lectura Ante...</td>\n",
       "      <td>5036-BAJO ACUEDUCTO (&lt;-65%)</td>\n",
       "      <td>101</td>\n",
       "      <td>AGUA POTABLE</td>\n",
       "      <td>35</td>\n",
       "      <td>NO HAY JUSTIFICACION</td>\n",
       "      <td>PECALCCOLA</td>\n",
       "      <td>Calcular Consumo por Lectura Anterior</td>\n",
       "      <td>5036</td>\n",
       "      <td>BAJO ACUEDUCTO (&lt;-65%)</td>\n",
       "    </tr>\n",
       "    <tr>\n",
       "      <th>8</th>\n",
       "      <td>0</td>\n",
       "      <td>101-AGUA POTABLE</td>\n",
       "      <td>0-SIN CAUSA NI OBSERVACIÓN</td>\n",
       "      <td>6.00</td>\n",
       "      <td>PECALCCOLA - Calcular Consumo por Lectura Ante...</td>\n",
       "      <td>2-ENVÍA A CRÍTICA</td>\n",
       "      <td>101</td>\n",
       "      <td>AGUA POTABLE</td>\n",
       "      <td>0</td>\n",
       "      <td>SIN CAUSA NI OBSERVACIÓN</td>\n",
       "      <td>PECALCCOLA</td>\n",
       "      <td>Calcular Consumo por Lectura Anterior</td>\n",
       "      <td>2</td>\n",
       "      <td>ENVÍA A CRÍTICA</td>\n",
       "    </tr>\n",
       "    <tr>\n",
       "      <th>9</th>\n",
       "      <td>1</td>\n",
       "      <td>101-AGUA POTABLE</td>\n",
       "      <td>35-NO HAY JUSTIFICACION</td>\n",
       "      <td>-3.00</td>\n",
       "      <td>CALCCOLE - Calcular Consumo por Lecturas</td>\n",
       "      <td>5036-BAJO ACUEDUCTO (&lt;-65%)</td>\n",
       "      <td>101</td>\n",
       "      <td>AGUA POTABLE</td>\n",
       "      <td>35</td>\n",
       "      <td>NO HAY JUSTIFICACION</td>\n",
       "      <td>CALCCOLE</td>\n",
       "      <td>Calcular Consumo por Lecturas</td>\n",
       "      <td>5036</td>\n",
       "      <td>BAJO ACUEDUCTO (&lt;-65%)</td>\n",
       "    </tr>\n",
       "    <tr>\n",
       "      <th>10</th>\n",
       "      <td>1</td>\n",
       "      <td>101-AGUA POTABLE</td>\n",
       "      <td>38-VACÍA EN REFORMA O DEMOLICIÓN</td>\n",
       "      <td>5.76</td>\n",
       "      <td>PEOBTECOPP - Obtener Consumo Promedio Individu...</td>\n",
       "      <td>48-POSIBLE INVESTIGACION</td>\n",
       "      <td>101</td>\n",
       "      <td>AGUA POTABLE</td>\n",
       "      <td>38</td>\n",
       "      <td>VACÍA EN REFORMA O DEMOLICIÓN</td>\n",
       "      <td>PEOBTECOPP</td>\n",
       "      <td>Obtener Consumo Promedio Individual últimos m...</td>\n",
       "      <td>48</td>\n",
       "      <td>POSIBLE INVESTIGACION</td>\n",
       "    </tr>\n",
       "  </tbody>\n",
       "</table>\n",
       "</div>"
      ],
      "text/plain": [
       "    RESPUESTA          SERVICIO                OBSERVACION_ACTUAL  \\\n",
       "0           1  101-AGUA POTABLE               31-MEDIDOR CAMBIADO   \n",
       "1           1  101-AGUA POTABLE               39-VER ALFANUMERICA   \n",
       "2           1  101-AGUA POTABLE           35-NO HAY JUSTIFICACION   \n",
       "3           1  101-AGUA POTABLE           35-NO HAY JUSTIFICACION   \n",
       "4           0  101-AGUA POTABLE        0-SIN CAUSA NI OBSERVACIÓN   \n",
       "5           1  101-AGUA POTABLE           35-NO HAY JUSTIFICACION   \n",
       "6           1  101-AGUA POTABLE           35-NO HAY JUSTIFICACION   \n",
       "8           0  101-AGUA POTABLE        0-SIN CAUSA NI OBSERVACIÓN   \n",
       "9           1  101-AGUA POTABLE           35-NO HAY JUSTIFICACION   \n",
       "10          1  101-AGUA POTABLE  38-VACÍA EN REFORMA O DEMOLICIÓN   \n",
       "\n",
       "    CONSUMO_CRITICADO                                   FUNCION_ANALISIS  \\\n",
       "0               81.58  PEOBTECOPP - Obtener Consumo Promedio Individu...   \n",
       "1              408.00           CALCCOLE - Calcular Consumo por Lecturas   \n",
       "2               -3.00  PECALCCOLA - Calcular Consumo por Lectura Ante...   \n",
       "3             -377.00  PECALCCOLA - Calcular Consumo por Lectura Ante...   \n",
       "4               11.00  PECALCCOLA - Calcular Consumo por Lectura Ante...   \n",
       "5              -15.00  PECALCCOLA - Calcular Consumo por Lectura Ante...   \n",
       "6               -1.00  PECALCCOLA - Calcular Consumo por Lectura Ante...   \n",
       "8                6.00  PECALCCOLA - Calcular Consumo por Lectura Ante...   \n",
       "9               -3.00           CALCCOLE - Calcular Consumo por Lecturas   \n",
       "10               5.76  PEOBTECOPP - Obtener Consumo Promedio Individu...   \n",
       "\n",
       "                   CALIFICACION CODSERVICIO  DESCSERVICIO  \\\n",
       "0             2-ENVÍA A CRÍTICA         101  AGUA POTABLE   \n",
       "1         5080-MUY ALTO (>500%)         101  AGUA POTABLE   \n",
       "2   5036-BAJO ACUEDUCTO (<-65%)         101  AGUA POTABLE   \n",
       "3   5036-BAJO ACUEDUCTO (<-65%)         101  AGUA POTABLE   \n",
       "4             2-ENVÍA A CRÍTICA         101  AGUA POTABLE   \n",
       "5   5036-BAJO ACUEDUCTO (<-65%)         101  AGUA POTABLE   \n",
       "6   5036-BAJO ACUEDUCTO (<-65%)         101  AGUA POTABLE   \n",
       "8             2-ENVÍA A CRÍTICA         101  AGUA POTABLE   \n",
       "9   5036-BAJO ACUEDUCTO (<-65%)         101  AGUA POTABLE   \n",
       "10     48-POSIBLE INVESTIGACION         101  AGUA POTABLE   \n",
       "\n",
       "   CODOBSERVACIONACTUAL          DESCOBSERVACIONACTUAL CODFUNCIONANALISIS  \\\n",
       "0                    31               MEDIDOR CAMBIADO        PEOBTECOPP    \n",
       "1                    39               VER ALFANUMERICA          CALCCOLE    \n",
       "2                    35           NO HAY JUSTIFICACION        PECALCCOLA    \n",
       "3                    35           NO HAY JUSTIFICACION        PECALCCOLA    \n",
       "4                     0       SIN CAUSA NI OBSERVACIÓN        PECALCCOLA    \n",
       "5                    35           NO HAY JUSTIFICACION        PECALCCOLA    \n",
       "6                    35           NO HAY JUSTIFICACION        PECALCCOLA    \n",
       "8                     0       SIN CAUSA NI OBSERVACIÓN        PECALCCOLA    \n",
       "9                    35           NO HAY JUSTIFICACION          CALCCOLE    \n",
       "10                   38  VACÍA EN REFORMA O DEMOLICIÓN        PEOBTECOPP    \n",
       "\n",
       "                                  DESCFUNCIONANALISIS CODCALIFICACION  \\\n",
       "0    Obtener Consumo Promedio Individual últimos m...               2   \n",
       "1                       Calcular Consumo por Lecturas            5080   \n",
       "2               Calcular Consumo por Lectura Anterior            5036   \n",
       "3               Calcular Consumo por Lectura Anterior            5036   \n",
       "4               Calcular Consumo por Lectura Anterior               2   \n",
       "5               Calcular Consumo por Lectura Anterior            5036   \n",
       "6               Calcular Consumo por Lectura Anterior            5036   \n",
       "8               Calcular Consumo por Lectura Anterior               2   \n",
       "9                       Calcular Consumo por Lecturas            5036   \n",
       "10   Obtener Consumo Promedio Individual últimos m...              48   \n",
       "\n",
       "          DESCCALIFICACION  \n",
       "0          ENVÍA A CRÍTICA  \n",
       "1         MUY ALTO (>500%)  \n",
       "2   BAJO ACUEDUCTO (<-65%)  \n",
       "3   BAJO ACUEDUCTO (<-65%)  \n",
       "4          ENVÍA A CRÍTICA  \n",
       "5   BAJO ACUEDUCTO (<-65%)  \n",
       "6   BAJO ACUEDUCTO (<-65%)  \n",
       "8          ENVÍA A CRÍTICA  \n",
       "9   BAJO ACUEDUCTO (<-65%)  \n",
       "10   POSIBLE INVESTIGACION  "
      ]
     },
     "execution_count": 33,
     "metadata": {},
     "output_type": "execute_result"
    }
   ],
   "source": [
    "#Seleccionar un subconjunto de datos\n",
    "datos_filtrado = datos[datos['CODSERVICIO'] == \"101\"]\n",
    "datos_filtrado.head(10)"
   ]
  },
  {
   "cell_type": "code",
   "execution_count": 36,
   "metadata": {},
   "outputs": [],
   "source": [
    "correlacion = datos_filtrado[[\"CONSUMO_CRITICADO\",\"CODOBSERVACIONACTUAL\"]]"
   ]
  },
  {
   "cell_type": "code",
   "execution_count": 37,
   "metadata": {},
   "outputs": [
    {
     "data": {
      "text/html": [
       "<div>\n",
       "<style scoped>\n",
       "    .dataframe tbody tr th:only-of-type {\n",
       "        vertical-align: middle;\n",
       "    }\n",
       "\n",
       "    .dataframe tbody tr th {\n",
       "        vertical-align: top;\n",
       "    }\n",
       "\n",
       "    .dataframe thead th {\n",
       "        text-align: right;\n",
       "    }\n",
       "</style>\n",
       "<table border=\"1\" class=\"dataframe\">\n",
       "  <thead>\n",
       "    <tr style=\"text-align: right;\">\n",
       "      <th></th>\n",
       "      <th>CONSUMO_CRITICADO</th>\n",
       "      <th>CODOBSERVACIONACTUAL</th>\n",
       "    </tr>\n",
       "  </thead>\n",
       "  <tbody>\n",
       "    <tr>\n",
       "      <th>CONSUMO_CRITICADO</th>\n",
       "      <td>1.000000</td>\n",
       "      <td>0.002877</td>\n",
       "    </tr>\n",
       "    <tr>\n",
       "      <th>CODOBSERVACIONACTUAL</th>\n",
       "      <td>0.002877</td>\n",
       "      <td>1.000000</td>\n",
       "    </tr>\n",
       "  </tbody>\n",
       "</table>\n",
       "</div>"
      ],
      "text/plain": [
       "                      CONSUMO_CRITICADO  CODOBSERVACIONACTUAL\n",
       "CONSUMO_CRITICADO              1.000000              0.002877\n",
       "CODOBSERVACIONACTUAL           0.002877              1.000000"
      ]
     },
     "execution_count": 37,
     "metadata": {},
     "output_type": "execute_result"
    }
   ],
   "source": [
    "correlacion.corr()"
   ]
  },
  {
   "cell_type": "code",
   "execution_count": null,
   "metadata": {},
   "outputs": [],
   "source": [
    "sns.pairplot(correlacion)"
   ]
  }
 ],
 "metadata": {
  "colab": {
   "authorship_tag": "ABX9TyOTiIKZFcvkAE/C+5VCDsrR",
   "provenance": []
  },
  "kernelspec": {
   "display_name": "Python 3",
   "name": "python3"
  },
  "language_info": {
   "codemirror_mode": {
    "name": "ipython",
    "version": 3
   },
   "file_extension": ".py",
   "mimetype": "text/x-python",
   "name": "python",
   "nbconvert_exporter": "python",
   "pygments_lexer": "ipython3",
   "version": "3.13.1"
  }
 },
 "nbformat": 4,
 "nbformat_minor": 0
}
